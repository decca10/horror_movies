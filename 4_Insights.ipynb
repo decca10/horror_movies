{
 "cells": [
  {
   "cell_type": "markdown",
   "metadata": {},
   "source": [
    "# Insights\n",
    "\n",
    "### Which site has the more positive reviews based on the data given?"
   ]
  },
  {
   "cell_type": "markdown",
   "metadata": {},
   "source": [
    "The best model for predicting which forum was the Vote Ensemble with DecisionTree, Boosters and CountVectorizer, score = 84%.      \n",
    "\n",
    "The best parameters included:\n",
    "- Setting terms to ingore words that appear in less than 2 posts and words that occur in more than 90% of the posts.  \n",
    "    - It seems there was a wide variety of words across all posts, that was harder to pin to one sentiment vs another.  \n",
    "- There was an advantage to viewing words in pairs of 2.  \n",
    "- Not using stop words in this model helped.   \n",
    "\n",
    "This model was highest in Sensitivity, meaning it errored more false positives, than false negatives.\n",
    "\n",
    "```python\n",
    "'cvec__max_df': 0.9,\n",
    "'cvec__max_features': 5000,\n",
    "'cvec__min_df': 2,\n",
    "'cvec__ngram_range': (1, 2),\n",
    "'cvec__stop_words': None,\n",
    "'vote__ada__n_estimators': 200,\n",
    "'vote__grad_boost__n_estimators': 200\n",
    " ```"
   ]
  },
  {
   "cell_type": "markdown",
   "metadata": {},
   "source": [
    "### How accurate was I in predicting a site based off of the comments?\n",
    "\n",
    "The best model for predicting which forum was the Naive Bayes with Tfid Vectorizer, score = 81%.      \n",
    "\n",
    "The best parameters included:\n",
    "- Setting terms to ingore words that appear in less than 2 posts and words that occur in more than 80% of the posts.  \n",
    "    - So it seems there was a sweet spot of commonly used words.  And that there were unique words specifically for each forum.  \n",
    "- There was an advantage to viewing words in pairs of 2.  \n",
    "- English stop words helped.  \n",
    "\n",
    "This model was high in all aspects, but lowest in Sensitivity, meaning it errored more false negatives than false positives.\n",
    "\n",
    "```python\n",
    "'tvec__max_df': 0.8,\n",
    "'tvec__max_features': 5000,\n",
    "'tvec__min_df': 2,\n",
    "'tvec__ngram_range': (1, 2),\n",
    "'tvec__stop_words': 'english'\n",
    "```"
   ]
  },
  {
   "cell_type": "markdown",
   "metadata": {},
   "source": [
    "### What is my final prediction for giving Kari a site for recommendations of a movie to watch? "
   ]
  },
  {
   "cell_type": "markdown",
   "metadata": {},
   "source": [
    "___Viewing sentiment analysis from VADER, I would recommend to Kari that she go to AllThingsHorror.___\n",
    "1. Based off of both compound and individual Sentiment, AllThingsHorror tends to stay more neutral than HorrrorMoviesOnly.  While HorrorMoviesONLY may have more users that are passionate about horror movies and therefore more likely to give extreme reviews."
   ]
  },
  {
   "cell_type": "markdown",
   "metadata": {
    "execution": {
     "iopub.execute_input": "2020-07-23T03:44:27.454474Z",
     "iopub.status.busy": "2020-07-23T03:44:27.453991Z",
     "iopub.status.idle": "2020-07-23T03:44:27.479212Z",
     "shell.execute_reply": "2020-07-23T03:44:27.473392Z",
     "shell.execute_reply.started": "2020-07-23T03:44:27.454435Z"
    }
   },
   "source": [
    "<img src='./images/VADERSent.png'>"
   ]
  },
  {
   "cell_type": "markdown",
   "metadata": {},
   "source": [
    "2. When combined with the winning predictive models, we see that both sets of forums have somewhat of a unique vocabulary.  "
   ]
  },
  {
   "cell_type": "markdown",
   "metadata": {
    "execution": {
     "iopub.execute_input": "2020-07-23T17:14:28.205368Z",
     "iopub.status.busy": "2020-07-23T17:14:28.204857Z",
     "iopub.status.idle": "2020-07-23T17:14:28.222362Z",
     "shell.execute_reply": "2020-07-23T17:14:28.215327Z",
     "shell.execute_reply.started": "2020-07-23T17:14:28.205319Z"
    }
   },
   "source": [
    "<img src='./images/o_common.png'>"
   ]
  },
  {
   "cell_type": "markdown",
   "metadata": {
    "execution": {
     "iopub.execute_input": "2020-07-23T01:52:19.627219Z",
     "iopub.status.busy": "2020-07-23T01:52:19.626388Z",
     "iopub.status.idle": "2020-07-23T01:52:20.204373Z",
     "shell.execute_reply": "2020-07-23T01:52:20.202749Z",
     "shell.execute_reply.started": "2020-07-23T01:52:19.627160Z"
    }
   },
   "source": [
    "<img src='./images/h_common.png'>"
   ]
  },
  {
   "cell_type": "markdown",
   "metadata": {},
   "source": [
    "While HorrorMoviesONLY uses words like *new* and *trailer* in their top 15 list moving towards new movies, AllThingsHorror uses words like *horror*, *movie*, *really* and *good* more frequently than HorrorMoviesONLY.  I would associate these words with more positive reviews, in the context of the horror genre. And even though AllThingsHorror is more wordy, the sentiment stays more neutral across more data."
   ]
  },
  {
   "cell_type": "markdown",
   "metadata": {
    "execution": {
     "iopub.execute_input": "2020-07-23T17:00:42.677590Z",
     "iopub.status.busy": "2020-07-23T17:00:42.677156Z",
     "iopub.status.idle": "2020-07-23T17:00:42.688873Z",
     "shell.execute_reply": "2020-07-23T17:00:42.686736Z",
     "shell.execute_reply.started": "2020-07-23T17:00:42.677549Z"
    }
   },
   "source": []
  },
  {
   "cell_type": "markdown",
   "metadata": {},
   "source": [
    "3. Let's look at body of the text itself which seems to indicate an overall preference for less wordy statements.\n",
    "\n",
    "\n",
    "<img src='./images/all_counts.png'>"
   ]
  },
  {
   "cell_type": "markdown",
   "metadata": {},
   "source": [
    "When looking at word count, AllThingsHorror really sticks to less wordy text.  HorrorMoviesONLY have a lot of variation in it's wordiness.  This could be because it is a more subjective look at a movie by someone who feels more passionate.  AllThingsHorror would be good for Kari who is looking quickly for a good movie and doesn't want to look at lengthy passionate discussions."
   ]
  },
  {
   "cell_type": "markdown",
   "metadata": {},
   "source": [
    "\n",
    "\n",
    "<img src='./images/wordcount_forum.png'>\n"
   ]
  },
  {
   "cell_type": "markdown",
   "metadata": {},
   "source": [
    "This difference between subjective and objective is more apparant in character count betweent the forums.  \n",
    "- There is alot of variablility in HorrorMoviesONLY perhaps because they are more subjective.  Whereas AllThingsHorror is normally distributed around 38 characters.  \n",
    "- And the biggest spike is around 10 characters, wheras HorrorMoviesOnly has several around 10, 35, 50, 70; with the biggest spike around 38"
   ]
  },
  {
   "cell_type": "markdown",
   "metadata": {
    "execution": {
     "iopub.execute_input": "2020-07-23T17:23:42.789636Z",
     "iopub.status.busy": "2020-07-23T17:23:42.789292Z",
     "iopub.status.idle": "2020-07-23T17:23:42.798518Z",
     "shell.execute_reply": "2020-07-23T17:23:42.795361Z",
     "shell.execute_reply.started": "2020-07-23T17:23:42.789604Z"
    }
   },
   "source": [
    "<img src='./images/charcount_forum.png'>"
   ]
  },
  {
   "cell_type": "markdown",
   "metadata": {},
   "source": [
    "4. One more thing to mention, I know Kari likes classic horror films.  So in this case getting access to new horror movies coming out is not necessarily something that she would particularly be interested in.  HorrorMoviesONLY tends to be more new movie releases (they have trailer in their top 15). And Kari is more interested in positive discussions about unknown or rediscovered classics.  "
   ]
  },
  {
   "cell_type": "markdown",
   "metadata": {},
   "source": [
    "# Further modeling:\n",
    "\n",
    "### To improve the chances of finding a movie Kari wants to see, I can \n",
    "1. Scrape genre and movie title from IMDB.  \n",
    "2. Match those movies to the reddit comments.\n",
    "4. Use NLP to decide which forum matches more closely with the genre she is looking for.  \n",
    "\n",
    "This would direct Kari to a forum that is especially talking about slasher films.\n",
    "\n",
    "### Other ways I can improve these models:\n",
    "1. Improve my initial scoring using the VADER method.  Garbage in = garbage out.  By going in and really refining what a neutral, positive or negative review looks like in the horror genre.\n",
    "\n",
    "*Notes on VADER:*\n",
    "    I had a challenge using a lexicon to tackle Horror movie comments.  This is because Horror movie comments would have words such as ___horror___ and ___scary___ as GOOD sentiments.  I chose VADER  because it handles social media comments the best.  By removing varying instances of ___horror___ and ___scary___ from the lexicon file, I was hoping to give higher weight to words like ___good___, even if the comments mentioned what VADER terms as negative words.  To properly do an analysis, I would rather create a different lexicon version of VADER, tailored to the horror genre in general, to give higher weights to words like ___scary___, ___horror___, and whatnot.  \n",
    "    \n"
   ]
  },
  {
   "cell_type": "code",
   "execution_count": null,
   "metadata": {},
   "outputs": [],
   "source": []
  }
 ],
 "metadata": {
  "kernelspec": {
   "display_name": "Python 3",
   "language": "python",
   "name": "python3"
  },
  "language_info": {
   "codemirror_mode": {
    "name": "ipython",
    "version": 3
   },
   "file_extension": ".py",
   "mimetype": "text/x-python",
   "name": "python",
   "nbconvert_exporter": "python",
   "pygments_lexer": "ipython3",
   "version": "3.7.7"
  }
 },
 "nbformat": 4,
 "nbformat_minor": 4
}
