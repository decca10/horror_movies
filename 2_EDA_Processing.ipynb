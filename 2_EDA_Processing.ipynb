{
 "cells": [
  {
   "cell_type": "markdown",
   "metadata": {},
   "source": [
    "# Pulling the pieces apart..\n",
    "\n",
    "In this jupyter notebook, I will be eploring the csv exports created in the [API Notebook](http://localhost:8889/lab/tree/1_API.ipynb).  It is important to remember:\n",
    "\n",
    "1 = HorrorMoviesONLY   \n",
    "0 = AllThingsHorror *ie. r/horror*\n",
    "\n",
    "___Table of Contents:___\n",
    "\n",
    "- [Imports](#section1)\n",
    "- [Pandas Profiling Reports](#section2)\n",
    "- [EDA and Cleanup](#section3)  \n",
    "    - [Combine Datasets](#section3a)   \n",
    "    - [Most Common Words](#section3b)\n",
    "- [Text Processing](#section4)   \n",
    "    - [Length of Text](#section4a)\n",
    "- [Export Data](#section5)\n",
    "\n",
    "\n",
    "For this section, I have used the following resources:  \n",
    " [20 Pandas Functions that will boost your data analysis process](https://towardsdatascience.com/20-pandas-functions-that-will-boost-your-data-analysis-process-f5dfdb2f9e05)    \n",
    "[A better EDA with Pandas-profiling](https://towardsdatascience.com/a-better-eda-with-pandas-profiling-e842a00e1136)   \n",
    "[Github: Pandas Profiling](https://github.com/pandas-profiling/pandas-profiling)   "
   ]
  },
  {
   "cell_type": "markdown",
   "metadata": {},
   "source": [
    "# Imports <a class=\"anchor\" id=\"section1\"></a>"
   ]
  },
  {
   "cell_type": "code",
   "execution_count": 1,
   "metadata": {
    "execution": {
     "iopub.execute_input": "2020-07-23T16:56:20.544875Z",
     "iopub.status.busy": "2020-07-23T16:56:20.544469Z",
     "iopub.status.idle": "2020-07-23T16:56:23.201952Z",
     "shell.execute_reply": "2020-07-23T16:56:23.201197Z",
     "shell.execute_reply.started": "2020-07-23T16:56:20.544845Z"
    }
   },
   "outputs": [],
   "source": [
    "import numpy as np\n",
    "import pandas as pd\n",
    "from pandas_profiling import ProfileReport\n",
    "\n",
    "import matplotlib.pyplot as plt\n",
    "import seaborn as sns\n",
    "\n",
    "from nltk.sentiment.vader import SentimentIntensityAnalyzer\n",
    "from sklearn.feature_extraction.text import CountVectorizer\n",
    "from nltk.tokenize import RegexpTokenizer"
   ]
  },
  {
   "cell_type": "markdown",
   "metadata": {},
   "source": [
    "#  Pandas Profiling Reports <a class=\"anchor\" id=\"section2\"></a>"
   ]
  },
  {
   "cell_type": "code",
   "execution_count": 2,
   "metadata": {
    "execution": {
     "iopub.execute_input": "2020-07-23T16:56:23.204139Z",
     "iopub.status.busy": "2020-07-23T16:56:23.203703Z",
     "iopub.status.idle": "2020-07-23T16:56:27.981801Z",
     "shell.execute_reply": "2020-07-23T16:56:27.978045Z",
     "shell.execute_reply.started": "2020-07-23T16:56:23.204101Z"
    }
   },
   "outputs": [
    {
     "data": {
      "application/vnd.jupyter.widget-view+json": {
       "model_id": "c3ee4e79a37a4ffc89fa50ac0ab967d6",
       "version_major": 2,
       "version_minor": 0
      },
      "text/plain": [
       "HBox(children=(FloatProgress(value=0.0, description='Summarize dataset', max=18.0, style=ProgressStyle(descrip…"
      ]
     },
     "metadata": {},
     "output_type": "display_data"
    },
    {
     "name": "stdout",
     "output_type": "stream",
     "text": [
      "\n"
     ]
    },
    {
     "data": {
      "application/vnd.jupyter.widget-view+json": {
       "model_id": "67e60b32bde2437dbbd6c70776db86c9",
       "version_major": 2,
       "version_minor": 0
      },
      "text/plain": [
       "HBox(children=(FloatProgress(value=0.0, description='Generate report structure', max=1.0, style=ProgressStyle(…"
      ]
     },
     "metadata": {},
     "output_type": "display_data"
    },
    {
     "name": "stdout",
     "output_type": "stream",
     "text": [
      "\n"
     ]
    },
    {
     "data": {
      "application/vnd.jupyter.widget-view+json": {
       "model_id": "3242e64af63a4fb68e513b83e07909b5",
       "version_major": 2,
       "version_minor": 0
      },
      "text/plain": [
       "HBox(children=(FloatProgress(value=0.0, description='Render HTML', max=1.0, style=ProgressStyle(description_wi…"
      ]
     },
     "metadata": {},
     "output_type": "display_data"
    },
    {
     "name": "stdout",
     "output_type": "stream",
     "text": [
      "\n"
     ]
    },
    {
     "data": {
      "application/vnd.jupyter.widget-view+json": {
       "model_id": "44e44bdbe318447689adc5765ceedd9d",
       "version_major": 2,
       "version_minor": 0
      },
      "text/plain": [
       "HBox(children=(FloatProgress(value=0.0, description='Export report to file', max=1.0, style=ProgressStyle(desc…"
      ]
     },
     "metadata": {},
     "output_type": "display_data"
    },
    {
     "name": "stdout",
     "output_type": "stream",
     "text": [
      "\n"
     ]
    }
   ],
   "source": [
    "s_df = pd.read_csv('./data/submissions.csv')\n",
    "profile = s_df.profile_report(title='Submissions Profiling Report')\n",
    "profile.to_file(output_file=\"./reports/2a_sub_pandas_profiling.html\")"
   ]
  },
  {
   "cell_type": "code",
   "execution_count": 3,
   "metadata": {
    "execution": {
     "iopub.execute_input": "2020-07-23T16:56:27.994881Z",
     "iopub.status.busy": "2020-07-23T16:56:27.991913Z",
     "iopub.status.idle": "2020-07-23T16:56:31.303547Z",
     "shell.execute_reply": "2020-07-23T16:56:31.302519Z",
     "shell.execute_reply.started": "2020-07-23T16:56:27.994799Z"
    }
   },
   "outputs": [
    {
     "data": {
      "application/vnd.jupyter.widget-view+json": {
       "model_id": "ed01d7b0709b41eeaa7381ed9fda68f3",
       "version_major": 2,
       "version_minor": 0
      },
      "text/plain": [
       "HBox(children=(FloatProgress(value=0.0, description='Summarize dataset', max=17.0, style=ProgressStyle(descrip…"
      ]
     },
     "metadata": {},
     "output_type": "display_data"
    },
    {
     "name": "stdout",
     "output_type": "stream",
     "text": [
      "\n"
     ]
    },
    {
     "data": {
      "application/vnd.jupyter.widget-view+json": {
       "model_id": "9a7122c8ba26484ba5d98c8c70de7b14",
       "version_major": 2,
       "version_minor": 0
      },
      "text/plain": [
       "HBox(children=(FloatProgress(value=0.0, description='Generate report structure', max=1.0, style=ProgressStyle(…"
      ]
     },
     "metadata": {},
     "output_type": "display_data"
    },
    {
     "name": "stdout",
     "output_type": "stream",
     "text": [
      "\n"
     ]
    },
    {
     "data": {
      "application/vnd.jupyter.widget-view+json": {
       "model_id": "8f8a085154304713b9c3f1e654e661b4",
       "version_major": 2,
       "version_minor": 0
      },
      "text/plain": [
       "HBox(children=(FloatProgress(value=0.0, description='Render HTML', max=1.0, style=ProgressStyle(description_wi…"
      ]
     },
     "metadata": {},
     "output_type": "display_data"
    },
    {
     "name": "stdout",
     "output_type": "stream",
     "text": [
      "\n"
     ]
    },
    {
     "data": {
      "application/vnd.jupyter.widget-view+json": {
       "model_id": "8fedc71c905d48e78fa5d8952dadc3be",
       "version_major": 2,
       "version_minor": 0
      },
      "text/plain": [
       "HBox(children=(FloatProgress(value=0.0, description='Export report to file', max=1.0, style=ProgressStyle(desc…"
      ]
     },
     "metadata": {},
     "output_type": "display_data"
    },
    {
     "name": "stdout",
     "output_type": "stream",
     "text": [
      "\n"
     ]
    }
   ],
   "source": [
    "#Comments Dataframe:\n",
    "c_df = pd.read_csv('./data/comments.csv')\n",
    "profile = c_df.profile_report(title = 'Comments Profiling Report')\n",
    "profile.to_file(output_file = './reports/3a_comm_pandas_profiling.html')"
   ]
  },
  {
   "cell_type": "markdown",
   "metadata": {},
   "source": [
    "# EDA and Cleanup <a class=\"anchor\" id=\"section3\"></a>"
   ]
  },
  {
   "cell_type": "code",
   "execution_count": 4,
   "metadata": {
    "execution": {
     "iopub.execute_input": "2020-07-23T16:56:31.306312Z",
     "iopub.status.busy": "2020-07-23T16:56:31.305851Z",
     "iopub.status.idle": "2020-07-23T16:56:31.381205Z",
     "shell.execute_reply": "2020-07-23T16:56:31.379774Z",
     "shell.execute_reply.started": "2020-07-23T16:56:31.306284Z"
    }
   },
   "outputs": [
    {
     "data": {
      "text/html": [
       "<div>\n",
       "<style scoped>\n",
       "    .dataframe tbody tr th:only-of-type {\n",
       "        vertical-align: middle;\n",
       "    }\n",
       "\n",
       "    .dataframe tbody tr th {\n",
       "        vertical-align: top;\n",
       "    }\n",
       "\n",
       "    .dataframe thead th {\n",
       "        text-align: right;\n",
       "    }\n",
       "</style>\n",
       "<table border=\"1\" class=\"dataframe\">\n",
       "  <thead>\n",
       "    <tr style=\"text-align: right;\">\n",
       "      <th></th>\n",
       "      <th>subreddit</th>\n",
       "      <th>source</th>\n",
       "      <th>selftext</th>\n",
       "      <th>body</th>\n",
       "    </tr>\n",
       "  </thead>\n",
       "  <tbody>\n",
       "    <tr>\n",
       "      <th>0</th>\n",
       "      <td>HorrorMoviesONLY</td>\n",
       "      <td>sub</td>\n",
       "      <td>NaN</td>\n",
       "      <td>Slaughter Of The Vampires 1962 movie trailer P...</td>\n",
       "    </tr>\n",
       "    <tr>\n",
       "      <th>1</th>\n",
       "      <td>HorrorMoviesONLY</td>\n",
       "      <td>sub</td>\n",
       "      <td>NaN</td>\n",
       "      <td>Dead Earth aka Two Of Us 2020 movie trailer Pl...</td>\n",
       "    </tr>\n",
       "    <tr>\n",
       "      <th>2</th>\n",
       "      <td>HorrorMoviesONLY</td>\n",
       "      <td>sub</td>\n",
       "      <td>https://www.youtube.com/channel/UC7duGHx5soCmf...</td>\n",
       "      <td>Review on “ ready or not “ what dose everyone ...</td>\n",
       "    </tr>\n",
       "    <tr>\n",
       "      <th>3</th>\n",
       "      <td>HorrorMoviesONLY</td>\n",
       "      <td>sub</td>\n",
       "      <td>NaN</td>\n",
       "      <td>New video: Trailer: Roh Mati Paksa (Indonesia ...</td>\n",
       "    </tr>\n",
       "    <tr>\n",
       "      <th>4</th>\n",
       "      <td>HorrorMoviesONLY</td>\n",
       "      <td>sub</td>\n",
       "      <td>NaN</td>\n",
       "      <td>Bloodshot 2020 movie trailer Plot: Ray Garriso...</td>\n",
       "    </tr>\n",
       "  </tbody>\n",
       "</table>\n",
       "</div>"
      ],
      "text/plain": [
       "          subreddit source                                           selftext  \\\n",
       "0  HorrorMoviesONLY    sub                                                NaN   \n",
       "1  HorrorMoviesONLY    sub                                                NaN   \n",
       "2  HorrorMoviesONLY    sub  https://www.youtube.com/channel/UC7duGHx5soCmf...   \n",
       "3  HorrorMoviesONLY    sub                                                NaN   \n",
       "4  HorrorMoviesONLY    sub                                                NaN   \n",
       "\n",
       "                                                body  \n",
       "0  Slaughter Of The Vampires 1962 movie trailer P...  \n",
       "1  Dead Earth aka Two Of Us 2020 movie trailer Pl...  \n",
       "2  Review on “ ready or not “ what dose everyone ...  \n",
       "3  New video: Trailer: Roh Mati Paksa (Indonesia ...  \n",
       "4  Bloodshot 2020 movie trailer Plot: Ray Garriso...  "
      ]
     },
     "execution_count": 4,
     "metadata": {},
     "output_type": "execute_result"
    }
   ],
   "source": [
    "s_df.head()"
   ]
  },
  {
   "cell_type": "code",
   "execution_count": 5,
   "metadata": {
    "execution": {
     "iopub.execute_input": "2020-07-23T16:56:31.383573Z",
     "iopub.status.busy": "2020-07-23T16:56:31.382881Z",
     "iopub.status.idle": "2020-07-23T16:56:31.474372Z",
     "shell.execute_reply": "2020-07-23T16:56:31.473407Z",
     "shell.execute_reply.started": "2020-07-23T16:56:31.383509Z"
    }
   },
   "outputs": [
    {
     "data": {
      "text/html": [
       "<div>\n",
       "<style scoped>\n",
       "    .dataframe tbody tr th:only-of-type {\n",
       "        vertical-align: middle;\n",
       "    }\n",
       "\n",
       "    .dataframe tbody tr th {\n",
       "        vertical-align: top;\n",
       "    }\n",
       "\n",
       "    .dataframe thead th {\n",
       "        text-align: right;\n",
       "    }\n",
       "</style>\n",
       "<table border=\"1\" class=\"dataframe\">\n",
       "  <thead>\n",
       "    <tr style=\"text-align: right;\">\n",
       "      <th></th>\n",
       "      <th>subreddit</th>\n",
       "      <th>source</th>\n",
       "      <th>selftext</th>\n",
       "      <th>body</th>\n",
       "    </tr>\n",
       "  </thead>\n",
       "  <tbody>\n",
       "    <tr>\n",
       "      <th>count</th>\n",
       "      <td>2000</td>\n",
       "      <td>2000</td>\n",
       "      <td>866</td>\n",
       "      <td>2000</td>\n",
       "    </tr>\n",
       "    <tr>\n",
       "      <th>unique</th>\n",
       "      <td>2</td>\n",
       "      <td>1</td>\n",
       "      <td>514</td>\n",
       "      <td>1283</td>\n",
       "    </tr>\n",
       "    <tr>\n",
       "      <th>top</th>\n",
       "      <td>horror</td>\n",
       "      <td>sub</td>\n",
       "      <td>[removed]</td>\n",
       "      <td>13 Most Disgusting Horror Movie Moments</td>\n",
       "    </tr>\n",
       "    <tr>\n",
       "      <th>freq</th>\n",
       "      <td>1000</td>\n",
       "      <td>2000</td>\n",
       "      <td>232</td>\n",
       "      <td>7</td>\n",
       "    </tr>\n",
       "  </tbody>\n",
       "</table>\n",
       "</div>"
      ],
      "text/plain": [
       "       subreddit source   selftext                                     body\n",
       "count       2000   2000        866                                     2000\n",
       "unique         2      1        514                                     1283\n",
       "top       horror    sub  [removed]  13 Most Disgusting Horror Movie Moments\n",
       "freq        1000   2000        232                                        7"
      ]
     },
     "execution_count": 5,
     "metadata": {},
     "output_type": "execute_result"
    }
   ],
   "source": [
    "#Submissions dataframe\n",
    "s_df.describe()"
   ]
  },
  {
   "cell_type": "code",
   "execution_count": 6,
   "metadata": {
    "execution": {
     "iopub.execute_input": "2020-07-23T16:56:31.476400Z",
     "iopub.status.busy": "2020-07-23T16:56:31.476036Z",
     "iopub.status.idle": "2020-07-23T16:56:31.572432Z",
     "shell.execute_reply": "2020-07-23T16:56:31.565861Z",
     "shell.execute_reply.started": "2020-07-23T16:56:31.476356Z"
    }
   },
   "outputs": [
    {
     "data": {
      "text/html": [
       "<div>\n",
       "<style scoped>\n",
       "    .dataframe tbody tr th:only-of-type {\n",
       "        vertical-align: middle;\n",
       "    }\n",
       "\n",
       "    .dataframe tbody tr th {\n",
       "        vertical-align: top;\n",
       "    }\n",
       "\n",
       "    .dataframe thead th {\n",
       "        text-align: right;\n",
       "    }\n",
       "</style>\n",
       "<table border=\"1\" class=\"dataframe\">\n",
       "  <thead>\n",
       "    <tr style=\"text-align: right;\">\n",
       "      <th></th>\n",
       "      <th>removed</th>\n",
       "      <th>nulls</th>\n",
       "    </tr>\n",
       "  </thead>\n",
       "  <tbody>\n",
       "    <tr>\n",
       "      <th>subreddit</th>\n",
       "      <td>232</td>\n",
       "      <td>0</td>\n",
       "    </tr>\n",
       "    <tr>\n",
       "      <th>source</th>\n",
       "      <td>232</td>\n",
       "      <td>0</td>\n",
       "    </tr>\n",
       "    <tr>\n",
       "      <th>selftext</th>\n",
       "      <td>232</td>\n",
       "      <td>1134</td>\n",
       "    </tr>\n",
       "    <tr>\n",
       "      <th>body</th>\n",
       "      <td>232</td>\n",
       "      <td>0</td>\n",
       "    </tr>\n",
       "  </tbody>\n",
       "</table>\n",
       "</div>"
      ],
      "text/plain": [
       "           removed  nulls\n",
       "subreddit      232      0\n",
       "source         232      0\n",
       "selftext       232   1134\n",
       "body           232      0"
      ]
     },
     "execution_count": 6,
     "metadata": {},
     "output_type": "execute_result"
    }
   ],
   "source": [
    "# selftext has 232 removed features and 1134 that are null\n",
    "pd.DataFrame(({\n",
    "    'removed':s_df.loc[s_df['selftext'] =='[removed]'].count(),\n",
    "    'nulls':s_df.isnull().sum()\n",
    "}))"
   ]
  },
  {
   "cell_type": "code",
   "execution_count": 7,
   "metadata": {
    "execution": {
     "iopub.execute_input": "2020-07-23T16:56:31.615437Z",
     "iopub.status.busy": "2020-07-23T16:56:31.612407Z",
     "iopub.status.idle": "2020-07-23T16:56:31.678423Z",
     "shell.execute_reply": "2020-07-23T16:56:31.674572Z",
     "shell.execute_reply.started": "2020-07-23T16:56:31.615285Z"
    }
   },
   "outputs": [
    {
     "data": {
      "text/plain": [
       "horror              1000\n",
       "HorrorMoviesONLY    1000\n",
       "Name: subreddit, dtype: int64"
      ]
     },
     "execution_count": 7,
     "metadata": {},
     "output_type": "execute_result"
    }
   ],
   "source": [
    "s_df['subreddit'].value_counts()"
   ]
  },
  {
   "cell_type": "code",
   "execution_count": 8,
   "metadata": {
    "execution": {
     "iopub.execute_input": "2020-07-23T16:56:31.736470Z",
     "iopub.status.busy": "2020-07-23T16:56:31.730924Z",
     "iopub.status.idle": "2020-07-23T16:56:31.867501Z",
     "shell.execute_reply": "2020-07-23T16:56:31.862420Z",
     "shell.execute_reply.started": "2020-07-23T16:56:31.734630Z"
    }
   },
   "outputs": [
    {
     "data": {
      "text/html": [
       "<div>\n",
       "<style scoped>\n",
       "    .dataframe tbody tr th:only-of-type {\n",
       "        vertical-align: middle;\n",
       "    }\n",
       "\n",
       "    .dataframe tbody tr th {\n",
       "        vertical-align: top;\n",
       "    }\n",
       "\n",
       "    .dataframe thead th {\n",
       "        text-align: right;\n",
       "    }\n",
       "</style>\n",
       "<table border=\"1\" class=\"dataframe\">\n",
       "  <thead>\n",
       "    <tr style=\"text-align: right;\">\n",
       "      <th></th>\n",
       "      <th>subreddit</th>\n",
       "      <th>source</th>\n",
       "      <th>selftext</th>\n",
       "      <th>body</th>\n",
       "    </tr>\n",
       "  </thead>\n",
       "  <tbody>\n",
       "    <tr>\n",
       "      <th>0</th>\n",
       "      <td>1</td>\n",
       "      <td>sub</td>\n",
       "      <td>NaN</td>\n",
       "      <td>Slaughter Of The Vampires 1962 movie trailer P...</td>\n",
       "    </tr>\n",
       "    <tr>\n",
       "      <th>1</th>\n",
       "      <td>1</td>\n",
       "      <td>sub</td>\n",
       "      <td>NaN</td>\n",
       "      <td>Dead Earth aka Two Of Us 2020 movie trailer Pl...</td>\n",
       "    </tr>\n",
       "    <tr>\n",
       "      <th>2</th>\n",
       "      <td>1</td>\n",
       "      <td>sub</td>\n",
       "      <td>https://www.youtube.com/channel/UC7duGHx5soCmf...</td>\n",
       "      <td>Review on “ ready or not “ what dose everyone ...</td>\n",
       "    </tr>\n",
       "    <tr>\n",
       "      <th>3</th>\n",
       "      <td>1</td>\n",
       "      <td>sub</td>\n",
       "      <td>NaN</td>\n",
       "      <td>New video: Trailer: Roh Mati Paksa (Indonesia ...</td>\n",
       "    </tr>\n",
       "    <tr>\n",
       "      <th>4</th>\n",
       "      <td>1</td>\n",
       "      <td>sub</td>\n",
       "      <td>NaN</td>\n",
       "      <td>Bloodshot 2020 movie trailer Plot: Ray Garriso...</td>\n",
       "    </tr>\n",
       "  </tbody>\n",
       "</table>\n",
       "</div>"
      ],
      "text/plain": [
       "   subreddit source                                           selftext  \\\n",
       "0          1    sub                                                NaN   \n",
       "1          1    sub                                                NaN   \n",
       "2          1    sub  https://www.youtube.com/channel/UC7duGHx5soCmf...   \n",
       "3          1    sub                                                NaN   \n",
       "4          1    sub                                                NaN   \n",
       "\n",
       "                                                body  \n",
       "0  Slaughter Of The Vampires 1962 movie trailer P...  \n",
       "1  Dead Earth aka Two Of Us 2020 movie trailer Pl...  \n",
       "2  Review on “ ready or not “ what dose everyone ...  \n",
       "3  New video: Trailer: Roh Mati Paksa (Indonesia ...  \n",
       "4  Bloodshot 2020 movie trailer Plot: Ray Garriso...  "
      ]
     },
     "execution_count": 8,
     "metadata": {},
     "output_type": "execute_result"
    }
   ],
   "source": [
    "#Changing HorroMoviesOnly to 1 and\n",
    "s_df['subreddit']=s_df['subreddit'].map({'horror':0,'HorrorMoviesONLY':1})\n",
    "s_df.head()"
   ]
  },
  {
   "cell_type": "code",
   "execution_count": 9,
   "metadata": {
    "execution": {
     "iopub.execute_input": "2020-07-23T16:56:31.891694Z",
     "iopub.status.busy": "2020-07-23T16:56:31.891354Z",
     "iopub.status.idle": "2020-07-23T16:56:31.937235Z",
     "shell.execute_reply": "2020-07-23T16:56:31.930361Z",
     "shell.execute_reply.started": "2020-07-23T16:56:31.891655Z"
    }
   },
   "outputs": [
    {
     "data": {
      "text/plain": [
       "(2000, 4)"
      ]
     },
     "execution_count": 9,
     "metadata": {},
     "output_type": "execute_result"
    }
   ],
   "source": [
    "s_df.shape"
   ]
  },
  {
   "cell_type": "markdown",
   "metadata": {},
   "source": [
    "___There are no missing features in Comments___"
   ]
  },
  {
   "cell_type": "code",
   "execution_count": 10,
   "metadata": {
    "execution": {
     "iopub.execute_input": "2020-07-23T16:56:32.015542Z",
     "iopub.status.busy": "2020-07-23T16:56:32.011460Z",
     "iopub.status.idle": "2020-07-23T16:56:32.051900Z",
     "shell.execute_reply": "2020-07-23T16:56:32.043096Z",
     "shell.execute_reply.started": "2020-07-23T16:56:32.015487Z"
    }
   },
   "outputs": [
    {
     "data": {
      "text/html": [
       "<div>\n",
       "<style scoped>\n",
       "    .dataframe tbody tr th:only-of-type {\n",
       "        vertical-align: middle;\n",
       "    }\n",
       "\n",
       "    .dataframe tbody tr th {\n",
       "        vertical-align: top;\n",
       "    }\n",
       "\n",
       "    .dataframe thead th {\n",
       "        text-align: right;\n",
       "    }\n",
       "</style>\n",
       "<table border=\"1\" class=\"dataframe\">\n",
       "  <thead>\n",
       "    <tr style=\"text-align: right;\">\n",
       "      <th></th>\n",
       "      <th>subreddit</th>\n",
       "      <th>source</th>\n",
       "      <th>body</th>\n",
       "    </tr>\n",
       "  </thead>\n",
       "  <tbody>\n",
       "    <tr>\n",
       "      <th>0</th>\n",
       "      <td>HorrorMoviesONLY</td>\n",
       "      <td>com</td>\n",
       "      <td>Hereditary</td>\n",
       "    </tr>\n",
       "    <tr>\n",
       "      <th>1</th>\n",
       "      <td>HorrorMoviesONLY</td>\n",
       "      <td>com</td>\n",
       "      <td>Love this one.</td>\n",
       "    </tr>\n",
       "    <tr>\n",
       "      <th>2</th>\n",
       "      <td>HorrorMoviesONLY</td>\n",
       "      <td>com</td>\n",
       "      <td>I am a huge fan of pin head,Freddy,Jason,even ...</td>\n",
       "    </tr>\n",
       "    <tr>\n",
       "      <th>3</th>\n",
       "      <td>HorrorMoviesONLY</td>\n",
       "      <td>com</td>\n",
       "      <td>This was an entertaining movie... you definite...</td>\n",
       "    </tr>\n",
       "    <tr>\n",
       "      <th>4</th>\n",
       "      <td>HorrorMoviesONLY</td>\n",
       "      <td>com</td>\n",
       "      <td>Really enjoyed it</td>\n",
       "    </tr>\n",
       "  </tbody>\n",
       "</table>\n",
       "</div>"
      ],
      "text/plain": [
       "          subreddit source                                               body\n",
       "0  HorrorMoviesONLY    com                                         Hereditary\n",
       "1  HorrorMoviesONLY    com                                     Love this one.\n",
       "2  HorrorMoviesONLY    com  I am a huge fan of pin head,Freddy,Jason,even ...\n",
       "3  HorrorMoviesONLY    com  This was an entertaining movie... you definite...\n",
       "4  HorrorMoviesONLY    com                                  Really enjoyed it"
      ]
     },
     "execution_count": 10,
     "metadata": {},
     "output_type": "execute_result"
    }
   ],
   "source": [
    "c_df.head()"
   ]
  },
  {
   "cell_type": "code",
   "execution_count": 11,
   "metadata": {
    "execution": {
     "iopub.execute_input": "2020-07-23T16:56:32.063169Z",
     "iopub.status.busy": "2020-07-23T16:56:32.062779Z",
     "iopub.status.idle": "2020-07-23T16:56:32.132669Z",
     "shell.execute_reply": "2020-07-23T16:56:32.125100Z",
     "shell.execute_reply.started": "2020-07-23T16:56:32.063123Z"
    }
   },
   "outputs": [
    {
     "data": {
      "text/html": [
       "<div>\n",
       "<style scoped>\n",
       "    .dataframe tbody tr th:only-of-type {\n",
       "        vertical-align: middle;\n",
       "    }\n",
       "\n",
       "    .dataframe tbody tr th {\n",
       "        vertical-align: top;\n",
       "    }\n",
       "\n",
       "    .dataframe thead th {\n",
       "        text-align: right;\n",
       "    }\n",
       "</style>\n",
       "<table border=\"1\" class=\"dataframe\">\n",
       "  <thead>\n",
       "    <tr style=\"text-align: right;\">\n",
       "      <th></th>\n",
       "      <th>subreddit</th>\n",
       "      <th>source</th>\n",
       "      <th>body</th>\n",
       "    </tr>\n",
       "  </thead>\n",
       "  <tbody>\n",
       "    <tr>\n",
       "      <th>count</th>\n",
       "      <td>1550</td>\n",
       "      <td>1550</td>\n",
       "      <td>1550</td>\n",
       "    </tr>\n",
       "    <tr>\n",
       "      <th>unique</th>\n",
       "      <td>2</td>\n",
       "      <td>1</td>\n",
       "      <td>1264</td>\n",
       "    </tr>\n",
       "    <tr>\n",
       "      <th>top</th>\n",
       "      <td>horror</td>\n",
       "      <td>com</td>\n",
       "      <td>[deleted]</td>\n",
       "    </tr>\n",
       "    <tr>\n",
       "      <th>freq</th>\n",
       "      <td>1000</td>\n",
       "      <td>1550</td>\n",
       "      <td>20</td>\n",
       "    </tr>\n",
       "  </tbody>\n",
       "</table>\n",
       "</div>"
      ],
      "text/plain": [
       "       subreddit source       body\n",
       "count       1550   1550       1550\n",
       "unique         2      1       1264\n",
       "top       horror    com  [deleted]\n",
       "freq        1000   1550         20"
      ]
     },
     "execution_count": 11,
     "metadata": {},
     "output_type": "execute_result"
    }
   ],
   "source": [
    "#Comments dataframe\n",
    "c_df.describe()"
   ]
  },
  {
   "cell_type": "code",
   "execution_count": 12,
   "metadata": {
    "execution": {
     "iopub.execute_input": "2020-07-23T16:56:32.149704Z",
     "iopub.status.busy": "2020-07-23T16:56:32.139812Z",
     "iopub.status.idle": "2020-07-23T16:56:32.196691Z",
     "shell.execute_reply": "2020-07-23T16:56:32.189868Z",
     "shell.execute_reply.started": "2020-07-23T16:56:32.149567Z"
    }
   },
   "outputs": [
    {
     "data": {
      "text/html": [
       "<div>\n",
       "<style scoped>\n",
       "    .dataframe tbody tr th:only-of-type {\n",
       "        vertical-align: middle;\n",
       "    }\n",
       "\n",
       "    .dataframe tbody tr th {\n",
       "        vertical-align: top;\n",
       "    }\n",
       "\n",
       "    .dataframe thead th {\n",
       "        text-align: right;\n",
       "    }\n",
       "</style>\n",
       "<table border=\"1\" class=\"dataframe\">\n",
       "  <thead>\n",
       "    <tr style=\"text-align: right;\">\n",
       "      <th></th>\n",
       "      <th>subreddit</th>\n",
       "      <th>source</th>\n",
       "      <th>body</th>\n",
       "    </tr>\n",
       "  </thead>\n",
       "  <tbody>\n",
       "    <tr>\n",
       "      <th>0</th>\n",
       "      <td>1</td>\n",
       "      <td>com</td>\n",
       "      <td>Hereditary</td>\n",
       "    </tr>\n",
       "    <tr>\n",
       "      <th>1</th>\n",
       "      <td>1</td>\n",
       "      <td>com</td>\n",
       "      <td>Love this one.</td>\n",
       "    </tr>\n",
       "    <tr>\n",
       "      <th>2</th>\n",
       "      <td>1</td>\n",
       "      <td>com</td>\n",
       "      <td>I am a huge fan of pin head,Freddy,Jason,even ...</td>\n",
       "    </tr>\n",
       "    <tr>\n",
       "      <th>3</th>\n",
       "      <td>1</td>\n",
       "      <td>com</td>\n",
       "      <td>This was an entertaining movie... you definite...</td>\n",
       "    </tr>\n",
       "    <tr>\n",
       "      <th>4</th>\n",
       "      <td>1</td>\n",
       "      <td>com</td>\n",
       "      <td>Really enjoyed it</td>\n",
       "    </tr>\n",
       "  </tbody>\n",
       "</table>\n",
       "</div>"
      ],
      "text/plain": [
       "   subreddit source                                               body\n",
       "0          1    com                                         Hereditary\n",
       "1          1    com                                     Love this one.\n",
       "2          1    com  I am a huge fan of pin head,Freddy,Jason,even ...\n",
       "3          1    com  This was an entertaining movie... you definite...\n",
       "4          1    com                                  Really enjoyed it"
      ]
     },
     "execution_count": 12,
     "metadata": {},
     "output_type": "execute_result"
    }
   ],
   "source": [
    "#Changing HorroMoviesOnly to 1 and horror to 0\n",
    "c_df['subreddit']=c_df['subreddit'].map({'horror':0,'HorrorMoviesONLY':1})\n",
    "c_df.head()"
   ]
  },
  {
   "cell_type": "code",
   "execution_count": 13,
   "metadata": {
    "execution": {
     "iopub.execute_input": "2020-07-23T16:56:32.207958Z",
     "iopub.status.busy": "2020-07-23T16:56:32.205992Z",
     "iopub.status.idle": "2020-07-23T16:56:32.247496Z",
     "shell.execute_reply": "2020-07-23T16:56:32.233783Z",
     "shell.execute_reply.started": "2020-07-23T16:56:32.207517Z"
    }
   },
   "outputs": [
    {
     "data": {
      "text/plain": [
       "(1550, 3)"
      ]
     },
     "execution_count": 13,
     "metadata": {},
     "output_type": "execute_result"
    }
   ],
   "source": [
    "c_df.shape"
   ]
  },
  {
   "cell_type": "markdown",
   "metadata": {},
   "source": [
    "## Combine Datasets <a class=\"anchor\" id=\"section3a\"></a>"
   ]
  },
  {
   "cell_type": "code",
   "execution_count": 14,
   "metadata": {
    "execution": {
     "iopub.execute_input": "2020-07-23T16:56:32.271720Z",
     "iopub.status.busy": "2020-07-23T16:56:32.268195Z",
     "iopub.status.idle": "2020-07-23T16:56:32.301999Z",
     "shell.execute_reply": "2020-07-23T16:56:32.300696Z",
     "shell.execute_reply.started": "2020-07-23T16:56:32.271380Z"
    }
   },
   "outputs": [
    {
     "data": {
      "text/html": [
       "<div>\n",
       "<style scoped>\n",
       "    .dataframe tbody tr th:only-of-type {\n",
       "        vertical-align: middle;\n",
       "    }\n",
       "\n",
       "    .dataframe tbody tr th {\n",
       "        vertical-align: top;\n",
       "    }\n",
       "\n",
       "    .dataframe thead th {\n",
       "        text-align: right;\n",
       "    }\n",
       "</style>\n",
       "<table border=\"1\" class=\"dataframe\">\n",
       "  <thead>\n",
       "    <tr style=\"text-align: right;\">\n",
       "      <th></th>\n",
       "      <th>subreddit</th>\n",
       "      <th>source</th>\n",
       "      <th>selftext</th>\n",
       "      <th>body</th>\n",
       "    </tr>\n",
       "  </thead>\n",
       "  <tbody>\n",
       "    <tr>\n",
       "      <th>0</th>\n",
       "      <td>1</td>\n",
       "      <td>sub</td>\n",
       "      <td>NaN</td>\n",
       "      <td>Slaughter Of The Vampires 1962 movie trailer P...</td>\n",
       "    </tr>\n",
       "    <tr>\n",
       "      <th>1</th>\n",
       "      <td>1</td>\n",
       "      <td>sub</td>\n",
       "      <td>NaN</td>\n",
       "      <td>Dead Earth aka Two Of Us 2020 movie trailer Pl...</td>\n",
       "    </tr>\n",
       "    <tr>\n",
       "      <th>2</th>\n",
       "      <td>1</td>\n",
       "      <td>sub</td>\n",
       "      <td>https://www.youtube.com/channel/UC7duGHx5soCmf...</td>\n",
       "      <td>Review on “ ready or not “ what dose everyone ...</td>\n",
       "    </tr>\n",
       "    <tr>\n",
       "      <th>3</th>\n",
       "      <td>1</td>\n",
       "      <td>sub</td>\n",
       "      <td>NaN</td>\n",
       "      <td>New video: Trailer: Roh Mati Paksa (Indonesia ...</td>\n",
       "    </tr>\n",
       "    <tr>\n",
       "      <th>4</th>\n",
       "      <td>1</td>\n",
       "      <td>sub</td>\n",
       "      <td>NaN</td>\n",
       "      <td>Bloodshot 2020 movie trailer Plot: Ray Garriso...</td>\n",
       "    </tr>\n",
       "    <tr>\n",
       "      <th>...</th>\n",
       "      <td>...</td>\n",
       "      <td>...</td>\n",
       "      <td>...</td>\n",
       "      <td>...</td>\n",
       "    </tr>\n",
       "    <tr>\n",
       "      <th>3545</th>\n",
       "      <td>0</td>\n",
       "      <td>com</td>\n",
       "      <td>NaN</td>\n",
       "      <td>I remember looking this one up on youtube.  No...</td>\n",
       "    </tr>\n",
       "    <tr>\n",
       "      <th>3546</th>\n",
       "      <td>0</td>\n",
       "      <td>com</td>\n",
       "      <td>NaN</td>\n",
       "      <td>I had finally successfully repressed this memo...</td>\n",
       "    </tr>\n",
       "    <tr>\n",
       "      <th>3547</th>\n",
       "      <td>0</td>\n",
       "      <td>com</td>\n",
       "      <td>NaN</td>\n",
       "      <td>Info dump here on a lot of random things:\\n\\nO...</td>\n",
       "    </tr>\n",
       "    <tr>\n",
       "      <th>3548</th>\n",
       "      <td>0</td>\n",
       "      <td>com</td>\n",
       "      <td>NaN</td>\n",
       "      <td>This post was automatically removed because th...</td>\n",
       "    </tr>\n",
       "    <tr>\n",
       "      <th>3549</th>\n",
       "      <td>0</td>\n",
       "      <td>com</td>\n",
       "      <td>NaN</td>\n",
       "      <td>I didn't know about the abuse what the fuck? H...</td>\n",
       "    </tr>\n",
       "  </tbody>\n",
       "</table>\n",
       "<p>3550 rows × 4 columns</p>\n",
       "</div>"
      ],
      "text/plain": [
       "      subreddit source                                           selftext  \\\n",
       "0             1    sub                                                NaN   \n",
       "1             1    sub                                                NaN   \n",
       "2             1    sub  https://www.youtube.com/channel/UC7duGHx5soCmf...   \n",
       "3             1    sub                                                NaN   \n",
       "4             1    sub                                                NaN   \n",
       "...         ...    ...                                                ...   \n",
       "3545          0    com                                                NaN   \n",
       "3546          0    com                                                NaN   \n",
       "3547          0    com                                                NaN   \n",
       "3548          0    com                                                NaN   \n",
       "3549          0    com                                                NaN   \n",
       "\n",
       "                                                   body  \n",
       "0     Slaughter Of The Vampires 1962 movie trailer P...  \n",
       "1     Dead Earth aka Two Of Us 2020 movie trailer Pl...  \n",
       "2     Review on “ ready or not “ what dose everyone ...  \n",
       "3     New video: Trailer: Roh Mati Paksa (Indonesia ...  \n",
       "4     Bloodshot 2020 movie trailer Plot: Ray Garriso...  \n",
       "...                                                 ...  \n",
       "3545  I remember looking this one up on youtube.  No...  \n",
       "3546  I had finally successfully repressed this memo...  \n",
       "3547  Info dump here on a lot of random things:\\n\\nO...  \n",
       "3548  This post was automatically removed because th...  \n",
       "3549  I didn't know about the abuse what the fuck? H...  \n",
       "\n",
       "[3550 rows x 4 columns]"
      ]
     },
     "execution_count": 14,
     "metadata": {},
     "output_type": "execute_result"
    }
   ],
   "source": [
    "df = s_df.append(c_df,sort=False,ignore_index=True)\n",
    "df"
   ]
  },
  {
   "cell_type": "markdown",
   "metadata": {},
   "source": [
    "___I will be removing self_text as a seperate column and instead include it into the body as seperate rows.  This increases my sample size to give me more to train and test on.  To differentiate them, I will mark the `source` as \"subst\" for insight analysis after my model has been run.___"
   ]
  },
  {
   "cell_type": "code",
   "execution_count": 15,
   "metadata": {
    "execution": {
     "iopub.execute_input": "2020-07-23T16:56:32.312429Z",
     "iopub.status.busy": "2020-07-23T16:56:32.303470Z",
     "iopub.status.idle": "2020-07-23T16:56:32.426667Z",
     "shell.execute_reply": "2020-07-23T16:56:32.425877Z",
     "shell.execute_reply.started": "2020-07-23T16:56:32.312321Z"
    }
   },
   "outputs": [
    {
     "data": {
      "text/html": [
       "<div>\n",
       "<style scoped>\n",
       "    .dataframe tbody tr th:only-of-type {\n",
       "        vertical-align: middle;\n",
       "    }\n",
       "\n",
       "    .dataframe tbody tr th {\n",
       "        vertical-align: top;\n",
       "    }\n",
       "\n",
       "    .dataframe thead th {\n",
       "        text-align: right;\n",
       "    }\n",
       "</style>\n",
       "<table border=\"1\" class=\"dataframe\">\n",
       "  <thead>\n",
       "    <tr style=\"text-align: right;\">\n",
       "      <th></th>\n",
       "      <th>subreddit</th>\n",
       "      <th>source</th>\n",
       "      <th>body</th>\n",
       "    </tr>\n",
       "  </thead>\n",
       "  <tbody>\n",
       "    <tr>\n",
       "      <th>2</th>\n",
       "      <td>1</td>\n",
       "      <td>subst</td>\n",
       "      <td>https://www.youtube.com/channel/UC7duGHx5soCmf...</td>\n",
       "    </tr>\n",
       "    <tr>\n",
       "      <th>8</th>\n",
       "      <td>1</td>\n",
       "      <td>subst</td>\n",
       "      <td>https://youtu.be/aVQaVKl1DxU</td>\n",
       "    </tr>\n",
       "    <tr>\n",
       "      <th>13</th>\n",
       "      <td>1</td>\n",
       "      <td>subst</td>\n",
       "      <td>So I just finished watching doctor sleep and a...</td>\n",
       "    </tr>\n",
       "    <tr>\n",
       "      <th>28</th>\n",
       "      <td>1</td>\n",
       "      <td>subst</td>\n",
       "      <td>Did anyone here purchase the script from the t...</td>\n",
       "    </tr>\n",
       "    <tr>\n",
       "      <th>29</th>\n",
       "      <td>1</td>\n",
       "      <td>subst</td>\n",
       "      <td>They pulled Child's Play, F13 Part 5, JGTH, Ja...</td>\n",
       "    </tr>\n",
       "    <tr>\n",
       "      <th>...</th>\n",
       "      <td>...</td>\n",
       "      <td>...</td>\n",
       "      <td>...</td>\n",
       "    </tr>\n",
       "    <tr>\n",
       "      <th>1991</th>\n",
       "      <td>0</td>\n",
       "      <td>subst</td>\n",
       "      <td>[removed]</td>\n",
       "    </tr>\n",
       "    <tr>\n",
       "      <th>1996</th>\n",
       "      <td>0</td>\n",
       "      <td>subst</td>\n",
       "      <td>We all know the horror genre has taken a backs...</td>\n",
       "    </tr>\n",
       "    <tr>\n",
       "      <th>1997</th>\n",
       "      <td>0</td>\n",
       "      <td>subst</td>\n",
       "      <td>I went over 4th of July weekend to see Jurassi...</td>\n",
       "    </tr>\n",
       "    <tr>\n",
       "      <th>1998</th>\n",
       "      <td>0</td>\n",
       "      <td>subst</td>\n",
       "      <td>Personally, I'm a huge fan of both. I'll almos...</td>\n",
       "    </tr>\n",
       "    <tr>\n",
       "      <th>1999</th>\n",
       "      <td>0</td>\n",
       "      <td>subst</td>\n",
       "      <td>Does anybody else with Amazon fire have blue b...</td>\n",
       "    </tr>\n",
       "  </tbody>\n",
       "</table>\n",
       "<p>866 rows × 3 columns</p>\n",
       "</div>"
      ],
      "text/plain": [
       "      subreddit source                                               body\n",
       "2             1  subst  https://www.youtube.com/channel/UC7duGHx5soCmf...\n",
       "8             1  subst                       https://youtu.be/aVQaVKl1DxU\n",
       "13            1  subst  So I just finished watching doctor sleep and a...\n",
       "28            1  subst  Did anyone here purchase the script from the t...\n",
       "29            1  subst  They pulled Child's Play, F13 Part 5, JGTH, Ja...\n",
       "...         ...    ...                                                ...\n",
       "1991          0  subst                                          [removed]\n",
       "1996          0  subst  We all know the horror genre has taken a backs...\n",
       "1997          0  subst  I went over 4th of July weekend to see Jurassi...\n",
       "1998          0  subst  Personally, I'm a huge fan of both. I'll almos...\n",
       "1999          0  subst  Does anybody else with Amazon fire have blue b...\n",
       "\n",
       "[866 rows x 3 columns]"
      ]
     },
     "execution_count": 15,
     "metadata": {},
     "output_type": "execute_result"
    }
   ],
   "source": [
    "self_text = df[df['selftext'].notnull()][['selftext','subreddit','source']]\n",
    "self_text.rename(columns={\"selftext\":'body'},inplace=True)\n",
    "self_text['source'] = 'subst'\n",
    "self_text = self_text[self_text['body'] != 'Not given']\n",
    "self_text = self_text.reindex(columns=['subreddit','source','body'])\n",
    "self_text.reindex()\n",
    "self_text"
   ]
  },
  {
   "cell_type": "code",
   "execution_count": 16,
   "metadata": {
    "execution": {
     "iopub.execute_input": "2020-07-23T16:56:32.428855Z",
     "iopub.status.busy": "2020-07-23T16:56:32.428516Z",
     "iopub.status.idle": "2020-07-23T16:56:32.507731Z",
     "shell.execute_reply": "2020-07-23T16:56:32.502077Z",
     "shell.execute_reply.started": "2020-07-23T16:56:32.428811Z"
    }
   },
   "outputs": [],
   "source": [
    "self_text.loc[self_text['body']=='[removed]'] = np.nan\n",
    "self_text.dropna(inplace=True)"
   ]
  },
  {
   "cell_type": "code",
   "execution_count": 17,
   "metadata": {
    "execution": {
     "iopub.execute_input": "2020-07-23T16:56:32.528847Z",
     "iopub.status.busy": "2020-07-23T16:56:32.521829Z",
     "iopub.status.idle": "2020-07-23T16:56:32.654158Z",
     "shell.execute_reply": "2020-07-23T16:56:32.650545Z",
     "shell.execute_reply.started": "2020-07-23T16:56:32.528651Z"
    }
   },
   "outputs": [
    {
     "data": {
      "text/html": [
       "<div>\n",
       "<style scoped>\n",
       "    .dataframe tbody tr th:only-of-type {\n",
       "        vertical-align: middle;\n",
       "    }\n",
       "\n",
       "    .dataframe tbody tr th {\n",
       "        vertical-align: top;\n",
       "    }\n",
       "\n",
       "    .dataframe thead th {\n",
       "        text-align: right;\n",
       "    }\n",
       "</style>\n",
       "<table border=\"1\" class=\"dataframe\">\n",
       "  <thead>\n",
       "    <tr style=\"text-align: right;\">\n",
       "      <th></th>\n",
       "      <th>subreddit</th>\n",
       "      <th>source</th>\n",
       "      <th>body</th>\n",
       "    </tr>\n",
       "  </thead>\n",
       "  <tbody>\n",
       "    <tr>\n",
       "      <th>0</th>\n",
       "      <td>1</td>\n",
       "      <td>sub</td>\n",
       "      <td>Slaughter Of The Vampires 1962 movie trailer P...</td>\n",
       "    </tr>\n",
       "    <tr>\n",
       "      <th>1</th>\n",
       "      <td>1</td>\n",
       "      <td>sub</td>\n",
       "      <td>Dead Earth aka Two Of Us 2020 movie trailer Pl...</td>\n",
       "    </tr>\n",
       "    <tr>\n",
       "      <th>2</th>\n",
       "      <td>1</td>\n",
       "      <td>sub</td>\n",
       "      <td>Review on “ ready or not “ what dose everyone ...</td>\n",
       "    </tr>\n",
       "    <tr>\n",
       "      <th>3</th>\n",
       "      <td>1</td>\n",
       "      <td>sub</td>\n",
       "      <td>New video: Trailer: Roh Mati Paksa (Indonesia ...</td>\n",
       "    </tr>\n",
       "    <tr>\n",
       "      <th>4</th>\n",
       "      <td>1</td>\n",
       "      <td>sub</td>\n",
       "      <td>Bloodshot 2020 movie trailer Plot: Ray Garriso...</td>\n",
       "    </tr>\n",
       "    <tr>\n",
       "      <th>...</th>\n",
       "      <td>...</td>\n",
       "      <td>...</td>\n",
       "      <td>...</td>\n",
       "    </tr>\n",
       "    <tr>\n",
       "      <th>3545</th>\n",
       "      <td>0</td>\n",
       "      <td>com</td>\n",
       "      <td>I remember looking this one up on youtube.  No...</td>\n",
       "    </tr>\n",
       "    <tr>\n",
       "      <th>3546</th>\n",
       "      <td>0</td>\n",
       "      <td>com</td>\n",
       "      <td>I had finally successfully repressed this memo...</td>\n",
       "    </tr>\n",
       "    <tr>\n",
       "      <th>3547</th>\n",
       "      <td>0</td>\n",
       "      <td>com</td>\n",
       "      <td>Info dump here on a lot of random things:\\n\\nO...</td>\n",
       "    </tr>\n",
       "    <tr>\n",
       "      <th>3548</th>\n",
       "      <td>0</td>\n",
       "      <td>com</td>\n",
       "      <td>This post was automatically removed because th...</td>\n",
       "    </tr>\n",
       "    <tr>\n",
       "      <th>3549</th>\n",
       "      <td>0</td>\n",
       "      <td>com</td>\n",
       "      <td>I didn't know about the abuse what the fuck? H...</td>\n",
       "    </tr>\n",
       "  </tbody>\n",
       "</table>\n",
       "<p>3550 rows × 3 columns</p>\n",
       "</div>"
      ],
      "text/plain": [
       "      subreddit source                                               body\n",
       "0             1    sub  Slaughter Of The Vampires 1962 movie trailer P...\n",
       "1             1    sub  Dead Earth aka Two Of Us 2020 movie trailer Pl...\n",
       "2             1    sub  Review on “ ready or not “ what dose everyone ...\n",
       "3             1    sub  New video: Trailer: Roh Mati Paksa (Indonesia ...\n",
       "4             1    sub  Bloodshot 2020 movie trailer Plot: Ray Garriso...\n",
       "...         ...    ...                                                ...\n",
       "3545          0    com  I remember looking this one up on youtube.  No...\n",
       "3546          0    com  I had finally successfully repressed this memo...\n",
       "3547          0    com  Info dump here on a lot of random things:\\n\\nO...\n",
       "3548          0    com  This post was automatically removed because th...\n",
       "3549          0    com  I didn't know about the abuse what the fuck? H...\n",
       "\n",
       "[3550 rows x 3 columns]"
      ]
     },
     "execution_count": 17,
     "metadata": {},
     "output_type": "execute_result"
    }
   ],
   "source": [
    "df.drop(columns=['selftext'],inplace=True)\n",
    "df"
   ]
  },
  {
   "cell_type": "code",
   "execution_count": 18,
   "metadata": {
    "execution": {
     "iopub.execute_input": "2020-07-23T16:56:32.668776Z",
     "iopub.status.busy": "2020-07-23T16:56:32.663574Z",
     "iopub.status.idle": "2020-07-23T16:56:32.775845Z",
     "shell.execute_reply": "2020-07-23T16:56:32.770417Z",
     "shell.execute_reply.started": "2020-07-23T16:56:32.668312Z"
    }
   },
   "outputs": [
    {
     "data": {
      "text/html": [
       "<div>\n",
       "<style scoped>\n",
       "    .dataframe tbody tr th:only-of-type {\n",
       "        vertical-align: middle;\n",
       "    }\n",
       "\n",
       "    .dataframe tbody tr th {\n",
       "        vertical-align: top;\n",
       "    }\n",
       "\n",
       "    .dataframe thead th {\n",
       "        text-align: right;\n",
       "    }\n",
       "</style>\n",
       "<table border=\"1\" class=\"dataframe\">\n",
       "  <thead>\n",
       "    <tr style=\"text-align: right;\">\n",
       "      <th></th>\n",
       "      <th>subreddit</th>\n",
       "      <th>source</th>\n",
       "      <th>body</th>\n",
       "    </tr>\n",
       "  </thead>\n",
       "  <tbody>\n",
       "    <tr>\n",
       "      <th>0</th>\n",
       "      <td>1.0</td>\n",
       "      <td>sub</td>\n",
       "      <td>Slaughter Of The Vampires 1962 movie trailer P...</td>\n",
       "    </tr>\n",
       "    <tr>\n",
       "      <th>1</th>\n",
       "      <td>1.0</td>\n",
       "      <td>sub</td>\n",
       "      <td>Dead Earth aka Two Of Us 2020 movie trailer Pl...</td>\n",
       "    </tr>\n",
       "    <tr>\n",
       "      <th>2</th>\n",
       "      <td>1.0</td>\n",
       "      <td>sub</td>\n",
       "      <td>Review on “ ready or not “ what dose everyone ...</td>\n",
       "    </tr>\n",
       "    <tr>\n",
       "      <th>3</th>\n",
       "      <td>1.0</td>\n",
       "      <td>sub</td>\n",
       "      <td>New video: Trailer: Roh Mati Paksa (Indonesia ...</td>\n",
       "    </tr>\n",
       "    <tr>\n",
       "      <th>4</th>\n",
       "      <td>1.0</td>\n",
       "      <td>sub</td>\n",
       "      <td>Bloodshot 2020 movie trailer Plot: Ray Garriso...</td>\n",
       "    </tr>\n",
       "    <tr>\n",
       "      <th>...</th>\n",
       "      <td>...</td>\n",
       "      <td>...</td>\n",
       "      <td>...</td>\n",
       "    </tr>\n",
       "    <tr>\n",
       "      <th>4179</th>\n",
       "      <td>0.0</td>\n",
       "      <td>subst</td>\n",
       "      <td>I recently finished American Horror Story: 198...</td>\n",
       "    </tr>\n",
       "    <tr>\n",
       "      <th>4180</th>\n",
       "      <td>0.0</td>\n",
       "      <td>subst</td>\n",
       "      <td>We all know the horror genre has taken a backs...</td>\n",
       "    </tr>\n",
       "    <tr>\n",
       "      <th>4181</th>\n",
       "      <td>0.0</td>\n",
       "      <td>subst</td>\n",
       "      <td>I went over 4th of July weekend to see Jurassi...</td>\n",
       "    </tr>\n",
       "    <tr>\n",
       "      <th>4182</th>\n",
       "      <td>0.0</td>\n",
       "      <td>subst</td>\n",
       "      <td>Personally, I'm a huge fan of both. I'll almos...</td>\n",
       "    </tr>\n",
       "    <tr>\n",
       "      <th>4183</th>\n",
       "      <td>0.0</td>\n",
       "      <td>subst</td>\n",
       "      <td>Does anybody else with Amazon fire have blue b...</td>\n",
       "    </tr>\n",
       "  </tbody>\n",
       "</table>\n",
       "<p>4184 rows × 3 columns</p>\n",
       "</div>"
      ],
      "text/plain": [
       "      subreddit source                                               body\n",
       "0           1.0    sub  Slaughter Of The Vampires 1962 movie trailer P...\n",
       "1           1.0    sub  Dead Earth aka Two Of Us 2020 movie trailer Pl...\n",
       "2           1.0    sub  Review on “ ready or not “ what dose everyone ...\n",
       "3           1.0    sub  New video: Trailer: Roh Mati Paksa (Indonesia ...\n",
       "4           1.0    sub  Bloodshot 2020 movie trailer Plot: Ray Garriso...\n",
       "...         ...    ...                                                ...\n",
       "4179        0.0  subst  I recently finished American Horror Story: 198...\n",
       "4180        0.0  subst  We all know the horror genre has taken a backs...\n",
       "4181        0.0  subst  I went over 4th of July weekend to see Jurassi...\n",
       "4182        0.0  subst  Personally, I'm a huge fan of both. I'll almos...\n",
       "4183        0.0  subst  Does anybody else with Amazon fire have blue b...\n",
       "\n",
       "[4184 rows x 3 columns]"
      ]
     },
     "execution_count": 18,
     "metadata": {},
     "output_type": "execute_result"
    }
   ],
   "source": [
    "df = df.append(self_text,ignore_index=True)\n",
    "df.reindex()\n",
    "df"
   ]
  },
  {
   "cell_type": "markdown",
   "metadata": {},
   "source": [
    "___I will drop all null values since we have a large dataset to work with.___"
   ]
  },
  {
   "cell_type": "code",
   "execution_count": 19,
   "metadata": {
    "execution": {
     "iopub.execute_input": "2020-07-23T16:56:32.785638Z",
     "iopub.status.busy": "2020-07-23T16:56:32.785066Z",
     "iopub.status.idle": "2020-07-23T16:56:32.855281Z",
     "shell.execute_reply": "2020-07-23T16:56:32.818735Z",
     "shell.execute_reply.started": "2020-07-23T16:56:32.785582Z"
    }
   },
   "outputs": [
    {
     "data": {
      "text/plain": [
       "subreddit    0\n",
       "source       0\n",
       "body         0\n",
       "dtype: int64"
      ]
     },
     "execution_count": 19,
     "metadata": {},
     "output_type": "execute_result"
    }
   ],
   "source": [
    "df.isnull().sum()"
   ]
  },
  {
   "cell_type": "code",
   "execution_count": 20,
   "metadata": {
    "execution": {
     "iopub.execute_input": "2020-07-23T16:56:32.873513Z",
     "iopub.status.busy": "2020-07-23T16:56:32.871563Z",
     "iopub.status.idle": "2020-07-23T16:56:33.036612Z",
     "shell.execute_reply": "2020-07-23T16:56:33.031155Z",
     "shell.execute_reply.started": "2020-07-23T16:56:32.872197Z"
    }
   },
   "outputs": [
    {
     "data": {
      "text/html": [
       "<div>\n",
       "<style scoped>\n",
       "    .dataframe tbody tr th:only-of-type {\n",
       "        vertical-align: middle;\n",
       "    }\n",
       "\n",
       "    .dataframe tbody tr th {\n",
       "        vertical-align: top;\n",
       "    }\n",
       "\n",
       "    .dataframe thead th {\n",
       "        text-align: right;\n",
       "    }\n",
       "</style>\n",
       "<table border=\"1\" class=\"dataframe\">\n",
       "  <thead>\n",
       "    <tr style=\"text-align: right;\">\n",
       "      <th></th>\n",
       "      <th>subreddit</th>\n",
       "      <th>source</th>\n",
       "      <th>body</th>\n",
       "    </tr>\n",
       "  </thead>\n",
       "  <tbody>\n",
       "    <tr>\n",
       "      <th>0</th>\n",
       "      <td>1.0</td>\n",
       "      <td>sub</td>\n",
       "      <td>Slaughter Of The Vampires 1962 movie trailer P...</td>\n",
       "    </tr>\n",
       "    <tr>\n",
       "      <th>1</th>\n",
       "      <td>1.0</td>\n",
       "      <td>sub</td>\n",
       "      <td>Dead Earth aka Two Of Us 2020 movie trailer Pl...</td>\n",
       "    </tr>\n",
       "    <tr>\n",
       "      <th>2</th>\n",
       "      <td>1.0</td>\n",
       "      <td>sub</td>\n",
       "      <td>Review on “ ready or not “ what dose everyone ...</td>\n",
       "    </tr>\n",
       "    <tr>\n",
       "      <th>3</th>\n",
       "      <td>1.0</td>\n",
       "      <td>sub</td>\n",
       "      <td>New video: Trailer: Roh Mati Paksa (Indonesia ...</td>\n",
       "    </tr>\n",
       "    <tr>\n",
       "      <th>4</th>\n",
       "      <td>1.0</td>\n",
       "      <td>sub</td>\n",
       "      <td>Bloodshot 2020 movie trailer Plot: Ray Garriso...</td>\n",
       "    </tr>\n",
       "    <tr>\n",
       "      <th>...</th>\n",
       "      <td>...</td>\n",
       "      <td>...</td>\n",
       "      <td>...</td>\n",
       "    </tr>\n",
       "    <tr>\n",
       "      <th>4179</th>\n",
       "      <td>0.0</td>\n",
       "      <td>subst</td>\n",
       "      <td>I recently finished American Horror Story: 198...</td>\n",
       "    </tr>\n",
       "    <tr>\n",
       "      <th>4180</th>\n",
       "      <td>0.0</td>\n",
       "      <td>subst</td>\n",
       "      <td>We all know the horror genre has taken a backs...</td>\n",
       "    </tr>\n",
       "    <tr>\n",
       "      <th>4181</th>\n",
       "      <td>0.0</td>\n",
       "      <td>subst</td>\n",
       "      <td>I went over 4th of July weekend to see Jurassi...</td>\n",
       "    </tr>\n",
       "    <tr>\n",
       "      <th>4182</th>\n",
       "      <td>0.0</td>\n",
       "      <td>subst</td>\n",
       "      <td>Personally, I'm a huge fan of both. I'll almos...</td>\n",
       "    </tr>\n",
       "    <tr>\n",
       "      <th>4183</th>\n",
       "      <td>0.0</td>\n",
       "      <td>subst</td>\n",
       "      <td>Does anybody else with Amazon fire have blue b...</td>\n",
       "    </tr>\n",
       "  </tbody>\n",
       "</table>\n",
       "<p>4184 rows × 3 columns</p>\n",
       "</div>"
      ],
      "text/plain": [
       "      subreddit source                                               body\n",
       "0           1.0    sub  Slaughter Of The Vampires 1962 movie trailer P...\n",
       "1           1.0    sub  Dead Earth aka Two Of Us 2020 movie trailer Pl...\n",
       "2           1.0    sub  Review on “ ready or not “ what dose everyone ...\n",
       "3           1.0    sub  New video: Trailer: Roh Mati Paksa (Indonesia ...\n",
       "4           1.0    sub  Bloodshot 2020 movie trailer Plot: Ray Garriso...\n",
       "...         ...    ...                                                ...\n",
       "4179        0.0  subst  I recently finished American Horror Story: 198...\n",
       "4180        0.0  subst  We all know the horror genre has taken a backs...\n",
       "4181        0.0  subst  I went over 4th of July weekend to see Jurassi...\n",
       "4182        0.0  subst  Personally, I'm a huge fan of both. I'll almos...\n",
       "4183        0.0  subst  Does anybody else with Amazon fire have blue b...\n",
       "\n",
       "[4184 rows x 3 columns]"
      ]
     },
     "execution_count": 20,
     "metadata": {},
     "output_type": "execute_result"
    }
   ],
   "source": [
    "df"
   ]
  },
  {
   "cell_type": "markdown",
   "metadata": {},
   "source": [
    "## Most Common Words <a class=\"anchor\" id=\"section3b\"></a>"
   ]
  },
  {
   "cell_type": "markdown",
   "metadata": {},
   "source": [
    "I will compare the most common words in AllThingsHorror(0):`horror_df` vs HorrorMoviesOnly(1):`only_df`"
   ]
  },
  {
   "cell_type": "code",
   "execution_count": 21,
   "metadata": {
    "execution": {
     "iopub.execute_input": "2020-07-23T16:56:33.052951Z",
     "iopub.status.busy": "2020-07-23T16:56:33.038894Z",
     "iopub.status.idle": "2020-07-23T16:56:33.087169Z",
     "shell.execute_reply": "2020-07-23T16:56:33.075417Z",
     "shell.execute_reply.started": "2020-07-23T16:56:33.052894Z"
    }
   },
   "outputs": [],
   "source": [
    "horror_df = df.loc[df['subreddit']==0]\n",
    "only_df = df.loc[df['subreddit']==1]"
   ]
  },
  {
   "cell_type": "code",
   "execution_count": 22,
   "metadata": {
    "execution": {
     "iopub.execute_input": "2020-07-23T16:56:33.102222Z",
     "iopub.status.busy": "2020-07-23T16:56:33.101630Z",
     "iopub.status.idle": "2020-07-23T16:56:34.083065Z",
     "shell.execute_reply": "2020-07-23T16:56:34.082104Z",
     "shell.execute_reply.started": "2020-07-23T16:56:33.102184Z"
    }
   },
   "outputs": [
    {
     "name": "stdout",
     "output_type": "stream",
     "text": [
      "Stored 'df_cvec_horror' (DataFrame)\n"
     ]
    }
   ],
   "source": [
    "#adapted from Caroline's solution to DSI Lab 5.02\n",
    "#AllThingsHorror\n",
    "cv = CountVectorizer(stop_words='english')\n",
    "cv.fit(horror_df['body'])\n",
    "\n",
    "cv_horror = cv.transform(horror_df['body'])\n",
    "df_cvec_horror = pd.DataFrame(cv_horror.todense(), columns=cv.get_feature_names())\n",
    "%store df_cvec_horror"
   ]
  },
  {
   "cell_type": "code",
   "execution_count": 23,
   "metadata": {
    "execution": {
     "iopub.execute_input": "2020-07-23T16:56:34.274894Z",
     "iopub.status.busy": "2020-07-23T16:56:34.273761Z",
     "iopub.status.idle": "2020-07-23T16:56:34.602570Z",
     "shell.execute_reply": "2020-07-23T16:56:34.601712Z",
     "shell.execute_reply.started": "2020-07-23T16:56:34.274836Z"
    }
   },
   "outputs": [
    {
     "name": "stdout",
     "output_type": "stream",
     "text": [
      "Stored 'df_cvec_only' (DataFrame)\n"
     ]
    }
   ],
   "source": [
    "#HorrorMoviesOnly\n",
    "cv = CountVectorizer(stop_words='english')\n",
    "cv.fit(only_df['body'])\n",
    "\n",
    "cv_only = cv.transform(only_df['body'])\n",
    "df_cvec_only = pd.DataFrame(cv_only.todense(), columns=cv.get_feature_names())\n",
    "%store df_cvec_only"
   ]
  },
  {
   "cell_type": "code",
   "execution_count": 55,
   "metadata": {
    "execution": {
     "iopub.execute_input": "2020-07-23T17:13:33.631998Z",
     "iopub.status.busy": "2020-07-23T17:13:33.631638Z",
     "iopub.status.idle": "2020-07-23T17:13:34.394337Z",
     "shell.execute_reply": "2020-07-23T17:13:34.392171Z",
     "shell.execute_reply.started": "2020-07-23T17:13:33.631968Z"
    }
   },
   "outputs": [
    {
     "data": {
      "image/png": "[encoded data removed]",
      "text/plain": [
       "<Figure size 576x396 with 1 Axes>"
      ]
     },
     "metadata": {},
     "output_type": "display_data"
    }
   ],
   "source": [
    "df_cvec_horror.sum().sort_values(ascending=False).head(15).plot(kind='barh')\n",
    "plt.title('15 Most commonly used words in AllThingsHorror dataset')\n",
    "plt.tight_layout()\n",
    "plt.savefig('images/h_common.png',bbox_inches='tight');"
   ]
  },
  {
   "cell_type": "code",
   "execution_count": 57,
   "metadata": {
    "execution": {
     "iopub.execute_input": "2020-07-23T17:14:07.280520Z",
     "iopub.status.busy": "2020-07-23T17:14:07.280158Z",
     "iopub.status.idle": "2020-07-23T17:14:08.013417Z",
     "shell.execute_reply": "2020-07-23T17:14:08.010774Z",
     "shell.execute_reply.started": "2020-07-23T17:14:07.280490Z"
    }
   },
   "outputs": [
    {
     "data": {
      "image/png": "[encoded data removed]",
      "text/plain": [
       "<Figure size 576x396 with 1 Axes>"
      ]
     },
     "metadata": {},
     "output_type": "display_data"
    }
   ],
   "source": [
    "plt.title('15 Most commonly used words in HorrorMoviesOnly dataset')\n",
    "df_cvec_only.sum().sort_values(ascending=False).head(15).plot(kind='barh')\n",
    "plt.tight_layout()\n",
    "plt.savefig('images/o_common.png',bbox_inches='tight');"
   ]
  },
  {
   "cell_type": "markdown",
   "metadata": {},
   "source": [
    "__Observation:__ The verbage is very similar in both datasets.  AllThingsHorror seems to be more wordy than HorrorMoviesOnly.  HorrorMoviesOnly has the word \"trailer\" in the top 15, which doesn't appear in the top AllThingsHorror at all. "
   ]
  },
  {
   "cell_type": "markdown",
   "metadata": {},
   "source": [
    "# Text Processing <a class=\"anchor\" id=\"section4\"></a>\n",
    "I will clean the dataset further and then use VADER \"SentimentIntensityAnalyzer\" to give our data a sentiment analysis score for further prediction testing."
   ]
  },
  {
   "cell_type": "code",
   "execution_count": 26,
   "metadata": {
    "execution": {
     "iopub.execute_input": "2020-07-23T16:56:35.373678Z",
     "iopub.status.busy": "2020-07-23T16:56:35.372880Z",
     "iopub.status.idle": "2020-07-23T16:56:35.430672Z",
     "shell.execute_reply": "2020-07-23T16:56:35.429622Z",
     "shell.execute_reply.started": "2020-07-23T16:56:35.373617Z"
    }
   },
   "outputs": [
    {
     "data": {
      "text/plain": [
       "'Slaughter Of The Vampires 1962 movie trailer Plot: On their wedding night, a newlywed couple find themselves menaced by a bloodthirsty vampire.'"
      ]
     },
     "execution_count": 26,
     "metadata": {},
     "output_type": "execute_result"
    }
   ],
   "source": [
    "df['body'][0]"
   ]
  },
  {
   "cell_type": "code",
   "execution_count": 27,
   "metadata": {
    "execution": {
     "iopub.execute_input": "2020-07-23T16:56:35.432489Z",
     "iopub.status.busy": "2020-07-23T16:56:35.432069Z",
     "iopub.status.idle": "2020-07-23T16:56:35.491652Z",
     "shell.execute_reply": "2020-07-23T16:56:35.489793Z",
     "shell.execute_reply.started": "2020-07-23T16:56:35.432456Z"
    }
   },
   "outputs": [
    {
     "data": {
      "text/plain": [
       "'Does anyone recall a strange movie on Netflix where a family thought their house was haunted but it turned out there was actually a man living in their walls?'"
      ]
     },
     "execution_count": 27,
     "metadata": {},
     "output_type": "execute_result"
    }
   ],
   "source": [
    "df['body'][106]"
   ]
  },
  {
   "cell_type": "code",
   "execution_count": 28,
   "metadata": {
    "execution": {
     "iopub.execute_input": "2020-07-23T16:56:35.493827Z",
     "iopub.status.busy": "2020-07-23T16:56:35.493367Z",
     "iopub.status.idle": "2020-07-23T16:56:35.553495Z",
     "shell.execute_reply": "2020-07-23T16:56:35.552619Z",
     "shell.execute_reply.started": "2020-07-23T16:56:35.493782Z"
    }
   },
   "outputs": [
    {
     "data": {
      "text/plain": [
       "\"What do you all think about Indonesian horror films? This is a trailer for 2020's Kajeng Kliwon | English Subtitles | Amanda Manopo | Horror\""
      ]
     },
     "execution_count": 28,
     "metadata": {},
     "output_type": "execute_result"
    }
   ],
   "source": [
    "df['body'][20]"
   ]
  },
  {
   "cell_type": "markdown",
   "metadata": {},
   "source": [
    "___I am going to clean up the text a little bit further by removing punctuation and making it all lowercase.  Then I will return the text as a string to be added to the dataframe.  This should make future models easier to tokenize.___"
   ]
  },
  {
   "cell_type": "code",
   "execution_count": 29,
   "metadata": {
    "execution": {
     "iopub.execute_input": "2020-07-23T16:56:35.555751Z",
     "iopub.status.busy": "2020-07-23T16:56:35.555214Z",
     "iopub.status.idle": "2020-07-23T16:56:35.616819Z",
     "shell.execute_reply": "2020-07-23T16:56:35.614813Z",
     "shell.execute_reply.started": "2020-07-23T16:56:35.555685Z"
    }
   },
   "outputs": [],
   "source": [
    "def noise(text):\n",
    "    #make it all lowercase\n",
    "    text = text.str.lower()\n",
    "    # Remove punctuation\n",
    "    text = text.str.replace('[^\\w\\s]', '')\n",
    "    text = text.astype('str')\n",
    "    return text"
   ]
  },
  {
   "cell_type": "code",
   "execution_count": 30,
   "metadata": {
    "execution": {
     "iopub.execute_input": "2020-07-23T16:56:35.618753Z",
     "iopub.status.busy": "2020-07-23T16:56:35.618346Z",
     "iopub.status.idle": "2020-07-23T16:56:35.745595Z",
     "shell.execute_reply": "2020-07-23T16:56:35.744665Z",
     "shell.execute_reply.started": "2020-07-23T16:56:35.618711Z"
    }
   },
   "outputs": [
    {
     "data": {
      "text/html": [
       "<div>\n",
       "<style scoped>\n",
       "    .dataframe tbody tr th:only-of-type {\n",
       "        vertical-align: middle;\n",
       "    }\n",
       "\n",
       "    .dataframe tbody tr th {\n",
       "        vertical-align: top;\n",
       "    }\n",
       "\n",
       "    .dataframe thead th {\n",
       "        text-align: right;\n",
       "    }\n",
       "</style>\n",
       "<table border=\"1\" class=\"dataframe\">\n",
       "  <thead>\n",
       "    <tr style=\"text-align: right;\">\n",
       "      <th></th>\n",
       "      <th>subreddit</th>\n",
       "      <th>source</th>\n",
       "      <th>body</th>\n",
       "    </tr>\n",
       "  </thead>\n",
       "  <tbody>\n",
       "    <tr>\n",
       "      <th>0</th>\n",
       "      <td>1.0</td>\n",
       "      <td>sub</td>\n",
       "      <td>slaughter of the vampires 1962 movie trailer p...</td>\n",
       "    </tr>\n",
       "    <tr>\n",
       "      <th>1</th>\n",
       "      <td>1.0</td>\n",
       "      <td>sub</td>\n",
       "      <td>dead earth aka two of us 2020 movie trailer pl...</td>\n",
       "    </tr>\n",
       "    <tr>\n",
       "      <th>2</th>\n",
       "      <td>1.0</td>\n",
       "      <td>sub</td>\n",
       "      <td>review on  ready or not  what dose everyone think</td>\n",
       "    </tr>\n",
       "    <tr>\n",
       "      <th>3</th>\n",
       "      <td>1.0</td>\n",
       "      <td>sub</td>\n",
       "      <td>new video trailer roh mati paksa indonesia 202...</td>\n",
       "    </tr>\n",
       "    <tr>\n",
       "      <th>4</th>\n",
       "      <td>1.0</td>\n",
       "      <td>sub</td>\n",
       "      <td>bloodshot 2020 movie trailer plot ray garrison...</td>\n",
       "    </tr>\n",
       "  </tbody>\n",
       "</table>\n",
       "</div>"
      ],
      "text/plain": [
       "   subreddit source                                               body\n",
       "0        1.0    sub  slaughter of the vampires 1962 movie trailer p...\n",
       "1        1.0    sub  dead earth aka two of us 2020 movie trailer pl...\n",
       "2        1.0    sub  review on  ready or not  what dose everyone think\n",
       "3        1.0    sub  new video trailer roh mati paksa indonesia 202...\n",
       "4        1.0    sub  bloodshot 2020 movie trailer plot ray garrison..."
      ]
     },
     "execution_count": 30,
     "metadata": {},
     "output_type": "execute_result"
    }
   ],
   "source": [
    "df['body'] = noise(df['body'])\n",
    "df.head()"
   ]
  },
  {
   "cell_type": "markdown",
   "metadata": {},
   "source": [
    "___VADER Sentiment Analyzer___\n",
    "I am using VADER because even though horror movies are a specific type of \"negative\" sounding discussions, VADER does a good job of evening that out across all texts.  The reason is that we are looking for words like good, happy, and cool instead of just scary.  See more information [here.](http://comp.social.gatech.edu/papers/icwsm14.vader.hutto.pdf)\n",
    "\n",
    "We must use VADER in the the absense of a good lexicon for horror films. BUT, I did remove versions of horror and scary from the VADER lexicon, defined in the `horror_list`, and set it as the lexicon file.  "
   ]
  },
  {
   "cell_type": "code",
   "execution_count": 31,
   "metadata": {
    "execution": {
     "iopub.execute_input": "2020-07-23T16:56:35.747811Z",
     "iopub.status.busy": "2020-07-23T16:56:35.747315Z",
     "iopub.status.idle": "2020-07-23T16:56:35.897168Z",
     "shell.execute_reply": "2020-07-23T16:56:35.896398Z",
     "shell.execute_reply.started": "2020-07-23T16:56:35.747767Z"
    }
   },
   "outputs": [],
   "source": [
    "sia = SentimentIntensityAnalyzer()"
   ]
  },
  {
   "cell_type": "code",
   "execution_count": 32,
   "metadata": {
    "execution": {
     "iopub.execute_input": "2020-07-23T16:56:35.899400Z",
     "iopub.status.busy": "2020-07-23T16:56:35.899063Z",
     "iopub.status.idle": "2020-07-23T16:56:35.990188Z",
     "shell.execute_reply": "2020-07-23T16:56:35.966754Z",
     "shell.execute_reply.started": "2020-07-23T16:56:35.899361Z"
    }
   },
   "outputs": [],
   "source": [
    "horror_list = ['horrific','horrifically','horrified','horrifies','horrify','horrifying','horrifyingly','horror','horrors','scare','scarecrow',\n",
    "'scarecrows','scared','scarer','scarers','scares','scaring','scary','dead','slaughter','blood','bloodshed']\n",
    "\n",
    "for word in horror_list:\n",
    "    if word in sia.lexicon:\n",
    "        sia.lexicon.pop(word)"
   ]
  },
  {
   "cell_type": "code",
   "execution_count": 33,
   "metadata": {
    "execution": {
     "iopub.execute_input": "2020-07-23T16:56:36.002686Z",
     "iopub.status.busy": "2020-07-23T16:56:36.002262Z",
     "iopub.status.idle": "2020-07-23T16:56:37.883779Z",
     "shell.execute_reply": "2020-07-23T16:56:37.882963Z",
     "shell.execute_reply.started": "2020-07-23T16:56:36.002647Z"
    }
   },
   "outputs": [
    {
     "data": {
      "text/html": [
       "<div>\n",
       "<style scoped>\n",
       "    .dataframe tbody tr th:only-of-type {\n",
       "        vertical-align: middle;\n",
       "    }\n",
       "\n",
       "    .dataframe tbody tr th {\n",
       "        vertical-align: top;\n",
       "    }\n",
       "\n",
       "    .dataframe thead th {\n",
       "        text-align: right;\n",
       "    }\n",
       "</style>\n",
       "<table border=\"1\" class=\"dataframe\">\n",
       "  <thead>\n",
       "    <tr style=\"text-align: right;\">\n",
       "      <th></th>\n",
       "      <th>neg</th>\n",
       "      <th>neu</th>\n",
       "      <th>pos</th>\n",
       "      <th>compound</th>\n",
       "    </tr>\n",
       "  </thead>\n",
       "  <tbody>\n",
       "    <tr>\n",
       "      <th>0</th>\n",
       "      <td>0.124</td>\n",
       "      <td>0.876</td>\n",
       "      <td>0.000</td>\n",
       "      <td>-0.4019</td>\n",
       "    </tr>\n",
       "    <tr>\n",
       "      <th>1</th>\n",
       "      <td>0.080</td>\n",
       "      <td>0.920</td>\n",
       "      <td>0.000</td>\n",
       "      <td>-0.4019</td>\n",
       "    </tr>\n",
       "    <tr>\n",
       "      <th>2</th>\n",
       "      <td>0.000</td>\n",
       "      <td>0.762</td>\n",
       "      <td>0.238</td>\n",
       "      <td>0.3612</td>\n",
       "    </tr>\n",
       "    <tr>\n",
       "      <th>3</th>\n",
       "      <td>0.000</td>\n",
       "      <td>1.000</td>\n",
       "      <td>0.000</td>\n",
       "      <td>0.0000</td>\n",
       "    </tr>\n",
       "    <tr>\n",
       "      <th>4</th>\n",
       "      <td>0.000</td>\n",
       "      <td>1.000</td>\n",
       "      <td>0.000</td>\n",
       "      <td>0.0000</td>\n",
       "    </tr>\n",
       "  </tbody>\n",
       "</table>\n",
       "</div>"
      ],
      "text/plain": [
       "     neg    neu    pos  compound\n",
       "0  0.124  0.876  0.000   -0.4019\n",
       "1  0.080  0.920  0.000   -0.4019\n",
       "2  0.000  0.762  0.238    0.3612\n",
       "3  0.000  1.000  0.000    0.0000\n",
       "4  0.000  1.000  0.000    0.0000"
      ]
     },
     "execution_count": 33,
     "metadata": {},
     "output_type": "execute_result"
    }
   ],
   "source": [
    "#adapted from Echelon NLP and Sentiment Analysis review\n",
    "score_dicts = []\n",
    "\n",
    "for comment in df['body']:\n",
    "    scores = sia.polarity_scores(comment)\n",
    "    score_dicts.append(scores)\n",
    "    \n",
    "scores = pd.DataFrame(score_dicts)\n",
    "scores.head()"
   ]
  },
  {
   "cell_type": "code",
   "execution_count": 34,
   "metadata": {
    "execution": {
     "iopub.execute_input": "2020-07-23T16:56:37.886323Z",
     "iopub.status.busy": "2020-07-23T16:56:37.885476Z",
     "iopub.status.idle": "2020-07-23T16:56:37.938177Z",
     "shell.execute_reply": "2020-07-23T16:56:37.910098Z",
     "shell.execute_reply.started": "2020-07-23T16:56:37.886268Z"
    }
   },
   "outputs": [],
   "source": [
    "df = pd.concat([df,scores],axis=1)"
   ]
  },
  {
   "cell_type": "code",
   "execution_count": 35,
   "metadata": {
    "execution": {
     "iopub.execute_input": "2020-07-23T16:56:37.948059Z",
     "iopub.status.busy": "2020-07-23T16:56:37.947554Z",
     "iopub.status.idle": "2020-07-23T16:56:37.995885Z",
     "shell.execute_reply": "2020-07-23T16:56:37.991553Z",
     "shell.execute_reply.started": "2020-07-23T16:56:37.947998Z"
    }
   },
   "outputs": [
    {
     "data": {
      "text/html": [
       "<div>\n",
       "<style scoped>\n",
       "    .dataframe tbody tr th:only-of-type {\n",
       "        vertical-align: middle;\n",
       "    }\n",
       "\n",
       "    .dataframe tbody tr th {\n",
       "        vertical-align: top;\n",
       "    }\n",
       "\n",
       "    .dataframe thead th {\n",
       "        text-align: right;\n",
       "    }\n",
       "</style>\n",
       "<table border=\"1\" class=\"dataframe\">\n",
       "  <thead>\n",
       "    <tr style=\"text-align: right;\">\n",
       "      <th></th>\n",
       "      <th>subreddit</th>\n",
       "      <th>source</th>\n",
       "      <th>body</th>\n",
       "      <th>neg</th>\n",
       "      <th>neu</th>\n",
       "      <th>pos</th>\n",
       "      <th>compound</th>\n",
       "    </tr>\n",
       "  </thead>\n",
       "  <tbody>\n",
       "    <tr>\n",
       "      <th>3676</th>\n",
       "      <td>1.0</td>\n",
       "      <td>subst</td>\n",
       "      <td>deleted</td>\n",
       "      <td>0.0</td>\n",
       "      <td>1.000</td>\n",
       "      <td>0.000</td>\n",
       "      <td>0.0000</td>\n",
       "    </tr>\n",
       "    <tr>\n",
       "      <th>1854</th>\n",
       "      <td>0.0</td>\n",
       "      <td>sub</td>\n",
       "      <td>can we all agree that telling someone theres a...</td>\n",
       "      <td>0.0</td>\n",
       "      <td>0.848</td>\n",
       "      <td>0.152</td>\n",
       "      <td>0.3612</td>\n",
       "    </tr>\n",
       "    <tr>\n",
       "      <th>3587</th>\n",
       "      <td>1.0</td>\n",
       "      <td>subst</td>\n",
       "      <td>i have been looking for this movie for a long ...</td>\n",
       "      <td>0.0</td>\n",
       "      <td>0.888</td>\n",
       "      <td>0.112</td>\n",
       "      <td>0.4404</td>\n",
       "    </tr>\n",
       "    <tr>\n",
       "      <th>1857</th>\n",
       "      <td>0.0</td>\n",
       "      <td>sub</td>\n",
       "      <td>the beach house and the mist</td>\n",
       "      <td>0.0</td>\n",
       "      <td>1.000</td>\n",
       "      <td>0.000</td>\n",
       "      <td>0.0000</td>\n",
       "    </tr>\n",
       "    <tr>\n",
       "      <th>3585</th>\n",
       "      <td>1.0</td>\n",
       "      <td>subst</td>\n",
       "      <td>what are the best horror mivies on netflix people</td>\n",
       "      <td>0.0</td>\n",
       "      <td>0.656</td>\n",
       "      <td>0.344</td>\n",
       "      <td>0.6369</td>\n",
       "    </tr>\n",
       "    <tr>\n",
       "      <th>1859</th>\n",
       "      <td>0.0</td>\n",
       "      <td>sub</td>\n",
       "      <td>anyone else sometimes hear slasher music faint...</td>\n",
       "      <td>0.0</td>\n",
       "      <td>1.000</td>\n",
       "      <td>0.000</td>\n",
       "      <td>0.0000</td>\n",
       "    </tr>\n",
       "    <tr>\n",
       "      <th>1864</th>\n",
       "      <td>0.0</td>\n",
       "      <td>sub</td>\n",
       "      <td>the collection is on right now forgot how grea...</td>\n",
       "      <td>0.0</td>\n",
       "      <td>0.815</td>\n",
       "      <td>0.185</td>\n",
       "      <td>0.7096</td>\n",
       "    </tr>\n",
       "    <tr>\n",
       "      <th>1865</th>\n",
       "      <td>0.0</td>\n",
       "      <td>sub</td>\n",
       "      <td>need help finding a movie that scarred me as a...</td>\n",
       "      <td>0.0</td>\n",
       "      <td>0.748</td>\n",
       "      <td>0.252</td>\n",
       "      <td>0.4019</td>\n",
       "    </tr>\n",
       "    <tr>\n",
       "      <th>1853</th>\n",
       "      <td>0.0</td>\n",
       "      <td>sub</td>\n",
       "      <td>the house that jack built on hulu</td>\n",
       "      <td>0.0</td>\n",
       "      <td>1.000</td>\n",
       "      <td>0.000</td>\n",
       "      <td>0.0000</td>\n",
       "    </tr>\n",
       "    <tr>\n",
       "      <th>1866</th>\n",
       "      <td>0.0</td>\n",
       "      <td>sub</td>\n",
       "      <td>should hostel be rebooted</td>\n",
       "      <td>0.0</td>\n",
       "      <td>1.000</td>\n",
       "      <td>0.000</td>\n",
       "      <td>0.0000</td>\n",
       "    </tr>\n",
       "    <tr>\n",
       "      <th>1868</th>\n",
       "      <td>0.0</td>\n",
       "      <td>sub</td>\n",
       "      <td>catacombs</td>\n",
       "      <td>0.0</td>\n",
       "      <td>1.000</td>\n",
       "      <td>0.000</td>\n",
       "      <td>0.0000</td>\n",
       "    </tr>\n",
       "    <tr>\n",
       "      <th>3576</th>\n",
       "      <td>1.0</td>\n",
       "      <td>subst</td>\n",
       "      <td>what are the best horror mivies on netflix people</td>\n",
       "      <td>0.0</td>\n",
       "      <td>0.656</td>\n",
       "      <td>0.344</td>\n",
       "      <td>0.6369</td>\n",
       "    </tr>\n",
       "    <tr>\n",
       "      <th>1871</th>\n",
       "      <td>0.0</td>\n",
       "      <td>sub</td>\n",
       "      <td>10 uplifting stories to obtain you via the wee...</td>\n",
       "      <td>0.0</td>\n",
       "      <td>1.000</td>\n",
       "      <td>0.000</td>\n",
       "      <td>0.0000</td>\n",
       "    </tr>\n",
       "    <tr>\n",
       "      <th>1872</th>\n",
       "      <td>0.0</td>\n",
       "      <td>sub</td>\n",
       "      <td>please help looking for the title of a i think...</td>\n",
       "      <td>0.0</td>\n",
       "      <td>0.792</td>\n",
       "      <td>0.208</td>\n",
       "      <td>0.8402</td>\n",
       "    </tr>\n",
       "    <tr>\n",
       "      <th>1873</th>\n",
       "      <td>0.0</td>\n",
       "      <td>sub</td>\n",
       "      <td>i highly recommend watching the decline if you...</td>\n",
       "      <td>0.0</td>\n",
       "      <td>0.763</td>\n",
       "      <td>0.237</td>\n",
       "      <td>0.4201</td>\n",
       "    </tr>\n",
       "    <tr>\n",
       "      <th>1874</th>\n",
       "      <td>0.0</td>\n",
       "      <td>sub</td>\n",
       "      <td>im writing a surrealhorror blog and i need eye...</td>\n",
       "      <td>0.0</td>\n",
       "      <td>1.000</td>\n",
       "      <td>0.000</td>\n",
       "      <td>0.0000</td>\n",
       "    </tr>\n",
       "    <tr>\n",
       "      <th>1876</th>\n",
       "      <td>0.0</td>\n",
       "      <td>sub</td>\n",
       "      <td>best way to watch dawn of the dead 78</td>\n",
       "      <td>0.0</td>\n",
       "      <td>0.656</td>\n",
       "      <td>0.344</td>\n",
       "      <td>0.6369</td>\n",
       "    </tr>\n",
       "    <tr>\n",
       "      <th>3578</th>\n",
       "      <td>1.0</td>\n",
       "      <td>subst</td>\n",
       "      <td>i have been looking for this movie for a long ...</td>\n",
       "      <td>0.0</td>\n",
       "      <td>0.888</td>\n",
       "      <td>0.112</td>\n",
       "      <td>0.4404</td>\n",
       "    </tr>\n",
       "    <tr>\n",
       "      <th>1852</th>\n",
       "      <td>0.0</td>\n",
       "      <td>sub</td>\n",
       "      <td>cant remember name of short film about dismemb...</td>\n",
       "      <td>0.0</td>\n",
       "      <td>1.000</td>\n",
       "      <td>0.000</td>\n",
       "      <td>0.0000</td>\n",
       "    </tr>\n",
       "    <tr>\n",
       "      <th>1851</th>\n",
       "      <td>0.0</td>\n",
       "      <td>sub</td>\n",
       "      <td>train to busan</td>\n",
       "      <td>0.0</td>\n",
       "      <td>1.000</td>\n",
       "      <td>0.000</td>\n",
       "      <td>0.0000</td>\n",
       "    </tr>\n",
       "  </tbody>\n",
       "</table>\n",
       "</div>"
      ],
      "text/plain": [
       "      subreddit source                                               body  \\\n",
       "3676        1.0  subst                                            deleted   \n",
       "1854        0.0    sub  can we all agree that telling someone theres a...   \n",
       "3587        1.0  subst  i have been looking for this movie for a long ...   \n",
       "1857        0.0    sub                       the beach house and the mist   \n",
       "3585        1.0  subst  what are the best horror mivies on netflix people   \n",
       "1859        0.0    sub  anyone else sometimes hear slasher music faint...   \n",
       "1864        0.0    sub  the collection is on right now forgot how grea...   \n",
       "1865        0.0    sub  need help finding a movie that scarred me as a...   \n",
       "1853        0.0    sub                  the house that jack built on hulu   \n",
       "1866        0.0    sub                          should hostel be rebooted   \n",
       "1868        0.0    sub                                          catacombs   \n",
       "3576        1.0  subst  what are the best horror mivies on netflix people   \n",
       "1871        0.0    sub  10 uplifting stories to obtain you via the wee...   \n",
       "1872        0.0    sub  please help looking for the title of a i think...   \n",
       "1873        0.0    sub  i highly recommend watching the decline if you...   \n",
       "1874        0.0    sub  im writing a surrealhorror blog and i need eye...   \n",
       "1876        0.0    sub              best way to watch dawn of the dead 78   \n",
       "3578        1.0  subst  i have been looking for this movie for a long ...   \n",
       "1852        0.0    sub  cant remember name of short film about dismemb...   \n",
       "1851        0.0    sub                                     train to busan   \n",
       "\n",
       "      neg    neu    pos  compound  \n",
       "3676  0.0  1.000  0.000    0.0000  \n",
       "1854  0.0  0.848  0.152    0.3612  \n",
       "3587  0.0  0.888  0.112    0.4404  \n",
       "1857  0.0  1.000  0.000    0.0000  \n",
       "3585  0.0  0.656  0.344    0.6369  \n",
       "1859  0.0  1.000  0.000    0.0000  \n",
       "1864  0.0  0.815  0.185    0.7096  \n",
       "1865  0.0  0.748  0.252    0.4019  \n",
       "1853  0.0  1.000  0.000    0.0000  \n",
       "1866  0.0  1.000  0.000    0.0000  \n",
       "1868  0.0  1.000  0.000    0.0000  \n",
       "3576  0.0  0.656  0.344    0.6369  \n",
       "1871  0.0  1.000  0.000    0.0000  \n",
       "1872  0.0  0.792  0.208    0.8402  \n",
       "1873  0.0  0.763  0.237    0.4201  \n",
       "1874  0.0  1.000  0.000    0.0000  \n",
       "1876  0.0  0.656  0.344    0.6369  \n",
       "3578  0.0  0.888  0.112    0.4404  \n",
       "1852  0.0  1.000  0.000    0.0000  \n",
       "1851  0.0  1.000  0.000    0.0000  "
      ]
     },
     "execution_count": 35,
     "metadata": {},
     "output_type": "execute_result"
    }
   ],
   "source": [
    "df.sort_values(by='neg', ascending=True).head(20)"
   ]
  },
  {
   "cell_type": "code",
   "execution_count": 36,
   "metadata": {
    "execution": {
     "iopub.execute_input": "2020-07-23T16:56:38.018283Z",
     "iopub.status.busy": "2020-07-23T16:56:38.016017Z",
     "iopub.status.idle": "2020-07-23T16:56:38.109104Z",
     "shell.execute_reply": "2020-07-23T16:56:38.108209Z",
     "shell.execute_reply.started": "2020-07-23T16:56:38.018214Z"
    }
   },
   "outputs": [
    {
     "data": {
      "text/html": [
       "<div>\n",
       "<style scoped>\n",
       "    .dataframe tbody tr th:only-of-type {\n",
       "        vertical-align: middle;\n",
       "    }\n",
       "\n",
       "    .dataframe tbody tr th {\n",
       "        vertical-align: top;\n",
       "    }\n",
       "\n",
       "    .dataframe thead th {\n",
       "        text-align: right;\n",
       "    }\n",
       "</style>\n",
       "<table border=\"1\" class=\"dataframe\">\n",
       "  <thead>\n",
       "    <tr style=\"text-align: right;\">\n",
       "      <th></th>\n",
       "      <th>subreddit</th>\n",
       "      <th>source</th>\n",
       "      <th>body</th>\n",
       "      <th>neg</th>\n",
       "      <th>neu</th>\n",
       "      <th>pos</th>\n",
       "      <th>compound</th>\n",
       "      <th>sentiment</th>\n",
       "    </tr>\n",
       "  </thead>\n",
       "  <tbody>\n",
       "    <tr>\n",
       "      <th>0</th>\n",
       "      <td>1.0</td>\n",
       "      <td>sub</td>\n",
       "      <td>slaughter of the vampires 1962 movie trailer p...</td>\n",
       "      <td>0.124</td>\n",
       "      <td>0.876</td>\n",
       "      <td>0.000</td>\n",
       "      <td>-0.4019</td>\n",
       "      <td>-0.4019</td>\n",
       "    </tr>\n",
       "    <tr>\n",
       "      <th>1</th>\n",
       "      <td>1.0</td>\n",
       "      <td>sub</td>\n",
       "      <td>dead earth aka two of us 2020 movie trailer pl...</td>\n",
       "      <td>0.080</td>\n",
       "      <td>0.920</td>\n",
       "      <td>0.000</td>\n",
       "      <td>-0.4019</td>\n",
       "      <td>-0.4019</td>\n",
       "    </tr>\n",
       "    <tr>\n",
       "      <th>2</th>\n",
       "      <td>1.0</td>\n",
       "      <td>sub</td>\n",
       "      <td>review on  ready or not  what dose everyone think</td>\n",
       "      <td>0.000</td>\n",
       "      <td>0.762</td>\n",
       "      <td>0.238</td>\n",
       "      <td>0.3612</td>\n",
       "      <td>0.3612</td>\n",
       "    </tr>\n",
       "    <tr>\n",
       "      <th>3</th>\n",
       "      <td>1.0</td>\n",
       "      <td>sub</td>\n",
       "      <td>new video trailer roh mati paksa indonesia 202...</td>\n",
       "      <td>0.000</td>\n",
       "      <td>1.000</td>\n",
       "      <td>0.000</td>\n",
       "      <td>0.0000</td>\n",
       "      <td>0.0000</td>\n",
       "    </tr>\n",
       "    <tr>\n",
       "      <th>4</th>\n",
       "      <td>1.0</td>\n",
       "      <td>sub</td>\n",
       "      <td>bloodshot 2020 movie trailer plot ray garrison...</td>\n",
       "      <td>0.000</td>\n",
       "      <td>1.000</td>\n",
       "      <td>0.000</td>\n",
       "      <td>0.0000</td>\n",
       "      <td>0.0000</td>\n",
       "    </tr>\n",
       "    <tr>\n",
       "      <th>...</th>\n",
       "      <td>...</td>\n",
       "      <td>...</td>\n",
       "      <td>...</td>\n",
       "      <td>...</td>\n",
       "      <td>...</td>\n",
       "      <td>...</td>\n",
       "      <td>...</td>\n",
       "      <td>...</td>\n",
       "    </tr>\n",
       "    <tr>\n",
       "      <th>4179</th>\n",
       "      <td>0.0</td>\n",
       "      <td>subst</td>\n",
       "      <td>i recently finished american horror story 1984...</td>\n",
       "      <td>0.000</td>\n",
       "      <td>0.791</td>\n",
       "      <td>0.209</td>\n",
       "      <td>0.7650</td>\n",
       "      <td>0.7650</td>\n",
       "    </tr>\n",
       "    <tr>\n",
       "      <th>4180</th>\n",
       "      <td>0.0</td>\n",
       "      <td>subst</td>\n",
       "      <td>we all know the horror genre has taken a backs...</td>\n",
       "      <td>0.000</td>\n",
       "      <td>0.842</td>\n",
       "      <td>0.158</td>\n",
       "      <td>0.7684</td>\n",
       "      <td>0.7684</td>\n",
       "    </tr>\n",
       "    <tr>\n",
       "      <th>4181</th>\n",
       "      <td>0.0</td>\n",
       "      <td>subst</td>\n",
       "      <td>i went over 4th of july weekend to see jurassi...</td>\n",
       "      <td>0.055</td>\n",
       "      <td>0.813</td>\n",
       "      <td>0.131</td>\n",
       "      <td>0.7906</td>\n",
       "      <td>0.7906</td>\n",
       "    </tr>\n",
       "    <tr>\n",
       "      <th>4182</th>\n",
       "      <td>0.0</td>\n",
       "      <td>subst</td>\n",
       "      <td>personally im a huge fan of both ill almost al...</td>\n",
       "      <td>0.038</td>\n",
       "      <td>0.787</td>\n",
       "      <td>0.175</td>\n",
       "      <td>0.9895</td>\n",
       "      <td>0.9895</td>\n",
       "    </tr>\n",
       "    <tr>\n",
       "      <th>4183</th>\n",
       "      <td>0.0</td>\n",
       "      <td>subst</td>\n",
       "      <td>does anybody else with amazon fire have blue b...</td>\n",
       "      <td>0.150</td>\n",
       "      <td>0.798</td>\n",
       "      <td>0.052</td>\n",
       "      <td>-0.4902</td>\n",
       "      <td>-0.4902</td>\n",
       "    </tr>\n",
       "  </tbody>\n",
       "</table>\n",
       "<p>4184 rows × 8 columns</p>\n",
       "</div>"
      ],
      "text/plain": [
       "      subreddit source                                               body  \\\n",
       "0           1.0    sub  slaughter of the vampires 1962 movie trailer p...   \n",
       "1           1.0    sub  dead earth aka two of us 2020 movie trailer pl...   \n",
       "2           1.0    sub  review on  ready or not  what dose everyone think   \n",
       "3           1.0    sub  new video trailer roh mati paksa indonesia 202...   \n",
       "4           1.0    sub  bloodshot 2020 movie trailer plot ray garrison...   \n",
       "...         ...    ...                                                ...   \n",
       "4179        0.0  subst  i recently finished american horror story 1984...   \n",
       "4180        0.0  subst  we all know the horror genre has taken a backs...   \n",
       "4181        0.0  subst  i went over 4th of july weekend to see jurassi...   \n",
       "4182        0.0  subst  personally im a huge fan of both ill almost al...   \n",
       "4183        0.0  subst  does anybody else with amazon fire have blue b...   \n",
       "\n",
       "        neg    neu    pos  compound  sentiment  \n",
       "0     0.124  0.876  0.000   -0.4019    -0.4019  \n",
       "1     0.080  0.920  0.000   -0.4019    -0.4019  \n",
       "2     0.000  0.762  0.238    0.3612     0.3612  \n",
       "3     0.000  1.000  0.000    0.0000     0.0000  \n",
       "4     0.000  1.000  0.000    0.0000     0.0000  \n",
       "...     ...    ...    ...       ...        ...  \n",
       "4179  0.000  0.791  0.209    0.7650     0.7650  \n",
       "4180  0.000  0.842  0.158    0.7684     0.7684  \n",
       "4181  0.055  0.813  0.131    0.7906     0.7906  \n",
       "4182  0.038  0.787  0.175    0.9895     0.9895  \n",
       "4183  0.150  0.798  0.052   -0.4902    -0.4902  \n",
       "\n",
       "[4184 rows x 8 columns]"
      ]
     },
     "execution_count": 36,
     "metadata": {},
     "output_type": "execute_result"
    }
   ],
   "source": [
    "#give a sentiment score of 1 for positive AND neutral and 0 for negative\n",
    "df.insert(7, 'sentiment', df['compound'])\n",
    "df"
   ]
  },
  {
   "cell_type": "code",
   "execution_count": 37,
   "metadata": {
    "execution": {
     "iopub.execute_input": "2020-07-23T16:56:38.134136Z",
     "iopub.status.busy": "2020-07-23T16:56:38.115803Z",
     "iopub.status.idle": "2020-07-23T16:56:38.210369Z",
     "shell.execute_reply": "2020-07-23T16:56:38.209385Z",
     "shell.execute_reply.started": "2020-07-23T16:56:38.117601Z"
    }
   },
   "outputs": [
    {
     "data": {
      "text/html": [
       "<div>\n",
       "<style scoped>\n",
       "    .dataframe tbody tr th:only-of-type {\n",
       "        vertical-align: middle;\n",
       "    }\n",
       "\n",
       "    .dataframe tbody tr th {\n",
       "        vertical-align: top;\n",
       "    }\n",
       "\n",
       "    .dataframe thead th {\n",
       "        text-align: right;\n",
       "    }\n",
       "</style>\n",
       "<table border=\"1\" class=\"dataframe\">\n",
       "  <thead>\n",
       "    <tr style=\"text-align: right;\">\n",
       "      <th></th>\n",
       "      <th>subreddit</th>\n",
       "      <th>source</th>\n",
       "      <th>body</th>\n",
       "      <th>neg</th>\n",
       "      <th>neu</th>\n",
       "      <th>pos</th>\n",
       "      <th>compound</th>\n",
       "      <th>sentiment</th>\n",
       "    </tr>\n",
       "  </thead>\n",
       "  <tbody>\n",
       "    <tr>\n",
       "      <th>0</th>\n",
       "      <td>1.0</td>\n",
       "      <td>sub</td>\n",
       "      <td>slaughter of the vampires 1962 movie trailer p...</td>\n",
       "      <td>0.124</td>\n",
       "      <td>0.876</td>\n",
       "      <td>0.000</td>\n",
       "      <td>-0.4019</td>\n",
       "      <td>0</td>\n",
       "    </tr>\n",
       "    <tr>\n",
       "      <th>1</th>\n",
       "      <td>1.0</td>\n",
       "      <td>sub</td>\n",
       "      <td>dead earth aka two of us 2020 movie trailer pl...</td>\n",
       "      <td>0.080</td>\n",
       "      <td>0.920</td>\n",
       "      <td>0.000</td>\n",
       "      <td>-0.4019</td>\n",
       "      <td>0</td>\n",
       "    </tr>\n",
       "    <tr>\n",
       "      <th>2</th>\n",
       "      <td>1.0</td>\n",
       "      <td>sub</td>\n",
       "      <td>review on  ready or not  what dose everyone think</td>\n",
       "      <td>0.000</td>\n",
       "      <td>0.762</td>\n",
       "      <td>0.238</td>\n",
       "      <td>0.3612</td>\n",
       "      <td>1</td>\n",
       "    </tr>\n",
       "    <tr>\n",
       "      <th>3</th>\n",
       "      <td>1.0</td>\n",
       "      <td>sub</td>\n",
       "      <td>new video trailer roh mati paksa indonesia 202...</td>\n",
       "      <td>0.000</td>\n",
       "      <td>1.000</td>\n",
       "      <td>0.000</td>\n",
       "      <td>0.0000</td>\n",
       "      <td>1</td>\n",
       "    </tr>\n",
       "    <tr>\n",
       "      <th>4</th>\n",
       "      <td>1.0</td>\n",
       "      <td>sub</td>\n",
       "      <td>bloodshot 2020 movie trailer plot ray garrison...</td>\n",
       "      <td>0.000</td>\n",
       "      <td>1.000</td>\n",
       "      <td>0.000</td>\n",
       "      <td>0.0000</td>\n",
       "      <td>1</td>\n",
       "    </tr>\n",
       "    <tr>\n",
       "      <th>...</th>\n",
       "      <td>...</td>\n",
       "      <td>...</td>\n",
       "      <td>...</td>\n",
       "      <td>...</td>\n",
       "      <td>...</td>\n",
       "      <td>...</td>\n",
       "      <td>...</td>\n",
       "      <td>...</td>\n",
       "    </tr>\n",
       "    <tr>\n",
       "      <th>4179</th>\n",
       "      <td>0.0</td>\n",
       "      <td>subst</td>\n",
       "      <td>i recently finished american horror story 1984...</td>\n",
       "      <td>0.000</td>\n",
       "      <td>0.791</td>\n",
       "      <td>0.209</td>\n",
       "      <td>0.7650</td>\n",
       "      <td>1</td>\n",
       "    </tr>\n",
       "    <tr>\n",
       "      <th>4180</th>\n",
       "      <td>0.0</td>\n",
       "      <td>subst</td>\n",
       "      <td>we all know the horror genre has taken a backs...</td>\n",
       "      <td>0.000</td>\n",
       "      <td>0.842</td>\n",
       "      <td>0.158</td>\n",
       "      <td>0.7684</td>\n",
       "      <td>1</td>\n",
       "    </tr>\n",
       "    <tr>\n",
       "      <th>4181</th>\n",
       "      <td>0.0</td>\n",
       "      <td>subst</td>\n",
       "      <td>i went over 4th of july weekend to see jurassi...</td>\n",
       "      <td>0.055</td>\n",
       "      <td>0.813</td>\n",
       "      <td>0.131</td>\n",
       "      <td>0.7906</td>\n",
       "      <td>1</td>\n",
       "    </tr>\n",
       "    <tr>\n",
       "      <th>4182</th>\n",
       "      <td>0.0</td>\n",
       "      <td>subst</td>\n",
       "      <td>personally im a huge fan of both ill almost al...</td>\n",
       "      <td>0.038</td>\n",
       "      <td>0.787</td>\n",
       "      <td>0.175</td>\n",
       "      <td>0.9895</td>\n",
       "      <td>1</td>\n",
       "    </tr>\n",
       "    <tr>\n",
       "      <th>4183</th>\n",
       "      <td>0.0</td>\n",
       "      <td>subst</td>\n",
       "      <td>does anybody else with amazon fire have blue b...</td>\n",
       "      <td>0.150</td>\n",
       "      <td>0.798</td>\n",
       "      <td>0.052</td>\n",
       "      <td>-0.4902</td>\n",
       "      <td>0</td>\n",
       "    </tr>\n",
       "  </tbody>\n",
       "</table>\n",
       "<p>4184 rows × 8 columns</p>\n",
       "</div>"
      ],
      "text/plain": [
       "      subreddit source                                               body  \\\n",
       "0           1.0    sub  slaughter of the vampires 1962 movie trailer p...   \n",
       "1           1.0    sub  dead earth aka two of us 2020 movie trailer pl...   \n",
       "2           1.0    sub  review on  ready or not  what dose everyone think   \n",
       "3           1.0    sub  new video trailer roh mati paksa indonesia 202...   \n",
       "4           1.0    sub  bloodshot 2020 movie trailer plot ray garrison...   \n",
       "...         ...    ...                                                ...   \n",
       "4179        0.0  subst  i recently finished american horror story 1984...   \n",
       "4180        0.0  subst  we all know the horror genre has taken a backs...   \n",
       "4181        0.0  subst  i went over 4th of july weekend to see jurassi...   \n",
       "4182        0.0  subst  personally im a huge fan of both ill almost al...   \n",
       "4183        0.0  subst  does anybody else with amazon fire have blue b...   \n",
       "\n",
       "        neg    neu    pos  compound  sentiment  \n",
       "0     0.124  0.876  0.000   -0.4019          0  \n",
       "1     0.080  0.920  0.000   -0.4019          0  \n",
       "2     0.000  0.762  0.238    0.3612          1  \n",
       "3     0.000  1.000  0.000    0.0000          1  \n",
       "4     0.000  1.000  0.000    0.0000          1  \n",
       "...     ...    ...    ...       ...        ...  \n",
       "4179  0.000  0.791  0.209    0.7650          1  \n",
       "4180  0.000  0.842  0.158    0.7684          1  \n",
       "4181  0.055  0.813  0.131    0.7906          1  \n",
       "4182  0.038  0.787  0.175    0.9895          1  \n",
       "4183  0.150  0.798  0.052   -0.4902          0  \n",
       "\n",
       "[4184 rows x 8 columns]"
      ]
     },
     "execution_count": 37,
     "metadata": {},
     "output_type": "execute_result"
    }
   ],
   "source": [
    "df['sentiment']=df['sentiment'].apply(lambda x: 1 if x>=0 else 0)\n",
    "df"
   ]
  },
  {
   "cell_type": "code",
   "execution_count": 38,
   "metadata": {
    "execution": {
     "iopub.execute_input": "2020-07-23T16:56:38.212455Z",
     "iopub.status.busy": "2020-07-23T16:56:38.212052Z",
     "iopub.status.idle": "2020-07-23T16:56:38.283256Z",
     "shell.execute_reply": "2020-07-23T16:56:38.273085Z",
     "shell.execute_reply.started": "2020-07-23T16:56:38.212417Z"
    }
   },
   "outputs": [
    {
     "data": {
      "text/plain": [
       "1    3077\n",
       "0    1107\n",
       "Name: sentiment, dtype: int64"
      ]
     },
     "execution_count": 38,
     "metadata": {},
     "output_type": "execute_result"
    }
   ],
   "source": [
    "df['sentiment'].value_counts()"
   ]
  },
  {
   "cell_type": "markdown",
   "metadata": {},
   "source": [
    "## Length of Text <a class=\"anchor\" id=\"section4a\"></a>\n",
    "In my final EDA step, I will add two columns.  One for length of characters and one for a count of how many words appear."
   ]
  },
  {
   "cell_type": "code",
   "execution_count": 39,
   "metadata": {
    "execution": {
     "iopub.execute_input": "2020-07-23T16:56:38.315942Z",
     "iopub.status.busy": "2020-07-23T16:56:38.310007Z",
     "iopub.status.idle": "2020-07-23T16:56:38.481971Z",
     "shell.execute_reply": "2020-07-23T16:56:38.481031Z",
     "shell.execute_reply.started": "2020-07-23T16:56:38.315867Z"
    }
   },
   "outputs": [
    {
     "data": {
      "text/html": [
       "<div>\n",
       "<style scoped>\n",
       "    .dataframe tbody tr th:only-of-type {\n",
       "        vertical-align: middle;\n",
       "    }\n",
       "\n",
       "    .dataframe tbody tr th {\n",
       "        vertical-align: top;\n",
       "    }\n",
       "\n",
       "    .dataframe thead th {\n",
       "        text-align: right;\n",
       "    }\n",
       "</style>\n",
       "<table border=\"1\" class=\"dataframe\">\n",
       "  <thead>\n",
       "    <tr style=\"text-align: right;\">\n",
       "      <th></th>\n",
       "      <th>subreddit</th>\n",
       "      <th>source</th>\n",
       "      <th>body</th>\n",
       "      <th>neg</th>\n",
       "      <th>neu</th>\n",
       "      <th>pos</th>\n",
       "      <th>compound</th>\n",
       "      <th>sentiment</th>\n",
       "      <th>body_len</th>\n",
       "      <th>word_len</th>\n",
       "    </tr>\n",
       "  </thead>\n",
       "  <tbody>\n",
       "    <tr>\n",
       "      <th>0</th>\n",
       "      <td>1.0</td>\n",
       "      <td>sub</td>\n",
       "      <td>slaughter of the vampires 1962 movie trailer p...</td>\n",
       "      <td>0.124</td>\n",
       "      <td>0.876</td>\n",
       "      <td>0.000</td>\n",
       "      <td>-0.4019</td>\n",
       "      <td>0</td>\n",
       "      <td>140</td>\n",
       "      <td>22</td>\n",
       "    </tr>\n",
       "    <tr>\n",
       "      <th>1</th>\n",
       "      <td>1.0</td>\n",
       "      <td>sub</td>\n",
       "      <td>dead earth aka two of us 2020 movie trailer pl...</td>\n",
       "      <td>0.080</td>\n",
       "      <td>0.920</td>\n",
       "      <td>0.000</td>\n",
       "      <td>-0.4019</td>\n",
       "      <td>0</td>\n",
       "      <td>178</td>\n",
       "      <td>34</td>\n",
       "    </tr>\n",
       "    <tr>\n",
       "      <th>2</th>\n",
       "      <td>1.0</td>\n",
       "      <td>sub</td>\n",
       "      <td>review on  ready or not  what dose everyone think</td>\n",
       "      <td>0.000</td>\n",
       "      <td>0.762</td>\n",
       "      <td>0.238</td>\n",
       "      <td>0.3612</td>\n",
       "      <td>1</td>\n",
       "      <td>49</td>\n",
       "      <td>9</td>\n",
       "    </tr>\n",
       "    <tr>\n",
       "      <th>3</th>\n",
       "      <td>1.0</td>\n",
       "      <td>sub</td>\n",
       "      <td>new video trailer roh mati paksa indonesia 202...</td>\n",
       "      <td>0.000</td>\n",
       "      <td>1.000</td>\n",
       "      <td>0.000</td>\n",
       "      <td>0.0000</td>\n",
       "      <td>1</td>\n",
       "      <td>90</td>\n",
       "      <td>13</td>\n",
       "    </tr>\n",
       "    <tr>\n",
       "      <th>4</th>\n",
       "      <td>1.0</td>\n",
       "      <td>sub</td>\n",
       "      <td>bloodshot 2020 movie trailer plot ray garrison...</td>\n",
       "      <td>0.000</td>\n",
       "      <td>1.000</td>\n",
       "      <td>0.000</td>\n",
       "      <td>0.0000</td>\n",
       "      <td>1</td>\n",
       "      <td>113</td>\n",
       "      <td>17</td>\n",
       "    </tr>\n",
       "    <tr>\n",
       "      <th>...</th>\n",
       "      <td>...</td>\n",
       "      <td>...</td>\n",
       "      <td>...</td>\n",
       "      <td>...</td>\n",
       "      <td>...</td>\n",
       "      <td>...</td>\n",
       "      <td>...</td>\n",
       "      <td>...</td>\n",
       "      <td>...</td>\n",
       "      <td>...</td>\n",
       "    </tr>\n",
       "    <tr>\n",
       "      <th>4179</th>\n",
       "      <td>0.0</td>\n",
       "      <td>subst</td>\n",
       "      <td>i recently finished american horror story 1984...</td>\n",
       "      <td>0.000</td>\n",
       "      <td>0.791</td>\n",
       "      <td>0.209</td>\n",
       "      <td>0.7650</td>\n",
       "      <td>1</td>\n",
       "      <td>158</td>\n",
       "      <td>29</td>\n",
       "    </tr>\n",
       "    <tr>\n",
       "      <th>4180</th>\n",
       "      <td>0.0</td>\n",
       "      <td>subst</td>\n",
       "      <td>we all know the horror genre has taken a backs...</td>\n",
       "      <td>0.000</td>\n",
       "      <td>0.842</td>\n",
       "      <td>0.158</td>\n",
       "      <td>0.7684</td>\n",
       "      <td>1</td>\n",
       "      <td>172</td>\n",
       "      <td>34</td>\n",
       "    </tr>\n",
       "    <tr>\n",
       "      <th>4181</th>\n",
       "      <td>0.0</td>\n",
       "      <td>subst</td>\n",
       "      <td>i went over 4th of july weekend to see jurassi...</td>\n",
       "      <td>0.055</td>\n",
       "      <td>0.813</td>\n",
       "      <td>0.131</td>\n",
       "      <td>0.7906</td>\n",
       "      <td>1</td>\n",
       "      <td>445</td>\n",
       "      <td>88</td>\n",
       "    </tr>\n",
       "    <tr>\n",
       "      <th>4182</th>\n",
       "      <td>0.0</td>\n",
       "      <td>subst</td>\n",
       "      <td>personally im a huge fan of both ill almost al...</td>\n",
       "      <td>0.038</td>\n",
       "      <td>0.787</td>\n",
       "      <td>0.175</td>\n",
       "      <td>0.9895</td>\n",
       "      <td>1</td>\n",
       "      <td>1385</td>\n",
       "      <td>257</td>\n",
       "    </tr>\n",
       "    <tr>\n",
       "      <th>4183</th>\n",
       "      <td>0.0</td>\n",
       "      <td>subst</td>\n",
       "      <td>does anybody else with amazon fire have blue b...</td>\n",
       "      <td>0.150</td>\n",
       "      <td>0.798</td>\n",
       "      <td>0.052</td>\n",
       "      <td>-0.4902</td>\n",
       "      <td>0</td>\n",
       "      <td>155</td>\n",
       "      <td>30</td>\n",
       "    </tr>\n",
       "  </tbody>\n",
       "</table>\n",
       "<p>4184 rows × 10 columns</p>\n",
       "</div>"
      ],
      "text/plain": [
       "      subreddit source                                               body  \\\n",
       "0           1.0    sub  slaughter of the vampires 1962 movie trailer p...   \n",
       "1           1.0    sub  dead earth aka two of us 2020 movie trailer pl...   \n",
       "2           1.0    sub  review on  ready or not  what dose everyone think   \n",
       "3           1.0    sub  new video trailer roh mati paksa indonesia 202...   \n",
       "4           1.0    sub  bloodshot 2020 movie trailer plot ray garrison...   \n",
       "...         ...    ...                                                ...   \n",
       "4179        0.0  subst  i recently finished american horror story 1984...   \n",
       "4180        0.0  subst  we all know the horror genre has taken a backs...   \n",
       "4181        0.0  subst  i went over 4th of july weekend to see jurassi...   \n",
       "4182        0.0  subst  personally im a huge fan of both ill almost al...   \n",
       "4183        0.0  subst  does anybody else with amazon fire have blue b...   \n",
       "\n",
       "        neg    neu    pos  compound  sentiment  body_len  word_len  \n",
       "0     0.124  0.876  0.000   -0.4019          0       140        22  \n",
       "1     0.080  0.920  0.000   -0.4019          0       178        34  \n",
       "2     0.000  0.762  0.238    0.3612          1        49         9  \n",
       "3     0.000  1.000  0.000    0.0000          1        90        13  \n",
       "4     0.000  1.000  0.000    0.0000          1       113        17  \n",
       "...     ...    ...    ...       ...        ...       ...       ...  \n",
       "4179  0.000  0.791  0.209    0.7650          1       158        29  \n",
       "4180  0.000  0.842  0.158    0.7684          1       172        34  \n",
       "4181  0.055  0.813  0.131    0.7906          1       445        88  \n",
       "4182  0.038  0.787  0.175    0.9895          1      1385       257  \n",
       "4183  0.150  0.798  0.052   -0.4902          0       155        30  \n",
       "\n",
       "[4184 rows x 10 columns]"
      ]
     },
     "execution_count": 39,
     "metadata": {},
     "output_type": "execute_result"
    }
   ],
   "source": [
    "df['body_len']= df['body'].map(len)\n",
    "df['word_len'] = [len(ea.split()) for ea in df['body']]\n",
    "df"
   ]
  },
  {
   "cell_type": "code",
   "execution_count": 48,
   "metadata": {
    "execution": {
     "iopub.execute_input": "2020-07-23T16:59:56.145078Z",
     "iopub.status.busy": "2020-07-23T16:59:56.144594Z",
     "iopub.status.idle": "2020-07-23T16:59:58.010892Z",
     "shell.execute_reply": "2020-07-23T16:59:58.009246Z",
     "shell.execute_reply.started": "2020-07-23T16:59:56.145038Z"
    }
   },
   "outputs": [
    {
     "data": {
      "image/png": "[encoded data removed]",
      "text/plain": [
       "<Figure size 1296x720 with 2 Axes>"
      ]
     },
     "metadata": {},
     "output_type": "display_data"
    }
   ],
   "source": [
    "plt.figure (figsize=(18,10))\n",
    "plt.suptitle('Comparison of Word and Character Counts in Entire Dataset\\n(note the different y scales)',va='bottom',fontsize=18)\n",
    "ax1 = plt.subplot(1,2,1)\n",
    "ax1.hist(df[df['word_len']<100]['word_len'],bins=100)\n",
    "ax1.set_title('Word Counts \\n (with outliers above 100 removed)',pad=-100,fontsize=15)\n",
    "ax1.set_ylabel('count')\n",
    "ax1.set_xlabel('word count')\n",
    "\n",
    "ax2=plt.subplot(1,2,2)\n",
    "ax2.hist(df[df['word_len']<250]['word_len'],bins=100)\n",
    "ax2.set_title('Number of characters in text\\n (with outliers above 250 removed)',pad=-100,fontsize=15)\n",
    "ax2.set_ylabel('count')\n",
    "ax2.set_xlabel('number of characters')\n",
    "\n",
    "plt.tight_layout()\n",
    "plt.savefig('images/all_counts.png',bbox_inches='tight');"
   ]
  },
  {
   "cell_type": "code",
   "execution_count": 41,
   "metadata": {
    "execution": {
     "iopub.execute_input": "2020-07-23T16:56:40.191751Z",
     "iopub.status.busy": "2020-07-23T16:56:40.191261Z",
     "iopub.status.idle": "2020-07-23T16:56:41.782367Z",
     "shell.execute_reply": "2020-07-23T16:56:41.781410Z",
     "shell.execute_reply.started": "2020-07-23T16:56:40.191686Z"
    }
   },
   "outputs": [
    {
     "data": {
      "image/png": "[encoded data removed]",
      "text/plain": [
       "<Figure size 1296x720 with 2 Axes>"
      ]
     },
     "metadata": {},
     "output_type": "display_data"
    }
   ],
   "source": [
    "plt.figure (figsize=(18,10))\n",
    "ax1 = plt.subplot(1,2,1)\n",
    "ax1.hist(df[(df['subreddit']==1)&(df['word_len']<100)]['word_len'],bins = 100)\n",
    "ax1.set_title('Count of Words in HorrorMoviesOnly \\n (with outliers above 100 removed)')\n",
    "ax1.set_ylabel('count')\n",
    "ax1.set_xlabel('number of characters')\n",
    "\n",
    "ax2=plt.subplot(1,2,2,sharex=ax1)\n",
    "ax2.hist(df[(df['subreddit']==0)&(df['word_len']<100)]['word_len'],bins = 100)\n",
    "ax2.set_title('Count of Words in AllThingsHorror \\n (with outliers above 100 removed)')\n",
    "ax2.set_ylabel('count')\n",
    "ax2.set_xlabel('number of characters')\n",
    "\n",
    "plt.tight_layout()\n",
    "plt.savefig('images/wordcount_forum.png');"
   ]
  },
  {
   "cell_type": "code",
   "execution_count": 42,
   "metadata": {
    "execution": {
     "iopub.execute_input": "2020-07-23T16:56:41.816526Z",
     "iopub.status.busy": "2020-07-23T16:56:41.784429Z",
     "iopub.status.idle": "2020-07-23T16:56:43.482701Z",
     "shell.execute_reply": "2020-07-23T16:56:43.481658Z",
     "shell.execute_reply.started": "2020-07-23T16:56:41.814521Z"
    }
   },
   "outputs": [
    {
     "data": {
      "image/png": "[encoded data removed]",
      "text/plain": [
       "<Figure size 1296x720 with 2 Axes>"
      ]
     },
     "metadata": {},
     "output_type": "display_data"
    }
   ],
   "source": [
    "plt.figure (figsize=(18,10))\n",
    "ax1 = plt.subplot(1,2,1)\n",
    "ax1.hist(df[(df['subreddit']==1)&(df['body_len']<100)]['body_len'],bins = 100)\n",
    "ax1.set_title('Number of characters in HorrorMoviesOnly \\n (with outliers above 100 removed)')\n",
    "ax1.set_ylabel('count')\n",
    "ax1.set_xlabel('number of characters')\n",
    "\n",
    "ax2=plt.subplot(1,2,2,sharex=ax1)\n",
    "ax2.hist(df[(df['subreddit']==0)&(df['body_len']<100)]['body_len'],bins = 100)\n",
    "ax2.set_title('Number of characters in AllThingsHorror \\n (with outliers above 100 removed)')\n",
    "ax2.set_ylabel('count')\n",
    "ax2.set_xlabel('number of characters')\n",
    "\n",
    "plt.tight_layout()\n",
    "plt.savefig('images/charcount_forum.png');"
   ]
  },
  {
   "cell_type": "code",
   "execution_count": 43,
   "metadata": {
    "execution": {
     "iopub.execute_input": "2020-07-23T16:56:43.522007Z",
     "iopub.status.busy": "2020-07-23T16:56:43.487482Z",
     "iopub.status.idle": "2020-07-23T16:56:43.570484Z",
     "shell.execute_reply": "2020-07-23T16:56:43.568199Z",
     "shell.execute_reply.started": "2020-07-23T16:56:43.521925Z"
    }
   },
   "outputs": [],
   "source": [
    "df_sentiment = df.drop(columns=['neg','neu','pos','compound'])"
   ]
  },
  {
   "cell_type": "markdown",
   "metadata": {},
   "source": [
    "# Export Data <a class=\"anchor\" id=\"section5\"></a>"
   ]
  },
  {
   "cell_type": "code",
   "execution_count": 44,
   "metadata": {
    "execution": {
     "iopub.execute_input": "2020-07-23T16:56:43.596464Z",
     "iopub.status.busy": "2020-07-23T16:56:43.595857Z",
     "iopub.status.idle": "2020-07-23T16:56:43.712658Z",
     "shell.execute_reply": "2020-07-23T16:56:43.697840Z",
     "shell.execute_reply.started": "2020-07-23T16:56:43.596404Z"
    }
   },
   "outputs": [],
   "source": [
    "c_df.to_csv('./data/clean_com.csv',index=False)"
   ]
  },
  {
   "cell_type": "code",
   "execution_count": 45,
   "metadata": {
    "execution": {
     "iopub.execute_input": "2020-07-23T16:56:43.719865Z",
     "iopub.status.busy": "2020-07-23T16:56:43.719206Z",
     "iopub.status.idle": "2020-07-23T16:56:43.955280Z",
     "shell.execute_reply": "2020-07-23T16:56:43.821173Z",
     "shell.execute_reply.started": "2020-07-23T16:56:43.719820Z"
    }
   },
   "outputs": [],
   "source": [
    "s_df.to_csv('./data/clean_sub.csv',index=False)"
   ]
  },
  {
   "cell_type": "code",
   "execution_count": 46,
   "metadata": {
    "execution": {
     "iopub.execute_input": "2020-07-23T16:56:43.983438Z",
     "iopub.status.busy": "2020-07-23T16:56:43.981856Z",
     "iopub.status.idle": "2020-07-23T16:56:44.189349Z",
     "shell.execute_reply": "2020-07-23T16:56:44.186031Z",
     "shell.execute_reply.started": "2020-07-23T16:56:43.983390Z"
    }
   },
   "outputs": [],
   "source": [
    "df.to_csv('./data/clean_all.csv',index=False)"
   ]
  },
  {
   "cell_type": "code",
   "execution_count": 47,
   "metadata": {
    "execution": {
     "iopub.execute_input": "2020-07-23T16:56:44.193388Z",
     "iopub.status.busy": "2020-07-23T16:56:44.192249Z",
     "iopub.status.idle": "2020-07-23T16:56:44.354277Z",
     "shell.execute_reply": "2020-07-23T16:56:44.324973Z",
     "shell.execute_reply.started": "2020-07-23T16:56:44.193275Z"
    }
   },
   "outputs": [],
   "source": [
    "df_sentiment.to_csv('./data/clean_sentiment.csv',index=False)"
   ]
  },
  {
   "cell_type": "code",
   "execution_count": null,
   "metadata": {},
   "outputs": [],
   "source": []
  }
 ],
 "metadata": {
  "kernelspec": {
   "display_name": "Python 3",
   "language": "python",
   "name": "python3"
  },
  "language_info": {
   "codemirror_mode": {
    "name": "ipython",
    "version": 3
   },
   "file_extension": ".py",
   "mimetype": "text/x-python",
   "name": "python",
   "nbconvert_exporter": "python",
   "pygments_lexer": "ipython3",
   "version": "3.7.7"
  },
  "toc-autonumbering": false,
  "toc-showcode": false,
  "toc-showmarkdowntxt": false,
  "toc-showtags": false
 },
 "nbformat": 4,
 "nbformat_minor": 4
}
