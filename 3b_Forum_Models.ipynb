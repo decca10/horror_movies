{
 "cells": [
  {
   "cell_type": "markdown",
   "metadata": {},
   "source": [
    "#  Whose Gore is it?\n",
    "\n",
    "I will be running two more sets of models but this time to determine which forum a post comes from.  \n",
    "\n",
    "___Table of Contents___\n",
    "\n",
    "- [Imports](#section1)\n",
    "- [Testing Environment](#section2)\n",
    "- [Naive Bayes](#section3)\n",
    "    - [MB with Count Vectorizer](#section3a)\n",
    "    - [MB with Tfid Vectorizer](#section3b)\n",
    "- [Decision Tree](#section4)"
   ]
  },
  {
   "cell_type": "markdown",
   "metadata": {},
   "source": [
    "# Imports <a class=\"anchor\" id=\"section1\"></a>"
   ]
  },
  {
   "cell_type": "code",
   "execution_count": 2,
   "metadata": {
    "execution": {
     "iopub.execute_input": "2020-07-23T02:37:44.761574Z",
     "iopub.status.busy": "2020-07-23T02:37:44.761007Z",
     "iopub.status.idle": "2020-07-23T02:37:45.774427Z",
     "shell.execute_reply": "2020-07-23T02:37:45.773498Z",
     "shell.execute_reply.started": "2020-07-23T02:37:44.761521Z"
    }
   },
   "outputs": [],
   "source": [
    "import pandas as pd\n",
    "\n",
    "#import models\n",
    "from sklearn.model_selection import train_test_split, GridSearchCV\n",
    "from sklearn.pipeline import Pipeline\n",
    "from sklearn.naive_bayes import MultinomialNB\n",
    "from sklearn.tree import DecisionTreeClassifier\n",
    "from sklearn.metrics import confusion_matrix, plot_confusion_matrix\n",
    "\n",
    "# Import vectorizers.\n",
    "from sklearn.feature_extraction.text import CountVectorizer,TfidfVectorizer\n",
    "from pred_confmatrix import conf_mat\n",
    "\n",
    "#import ensembles\n",
    "from sklearn.ensemble import AdaBoostClassifier,VotingClassifier,GradientBoostingClassifier"
   ]
  },
  {
   "cell_type": "markdown",
   "metadata": {},
   "source": [
    "# Testing Environment <a class=\"anchor\" id=\"section2\"></a>"
   ]
  },
  {
   "cell_type": "code",
   "execution_count": 3,
   "metadata": {
    "execution": {
     "iopub.execute_input": "2020-07-23T02:37:46.000384Z",
     "iopub.status.busy": "2020-07-23T02:37:46.000083Z",
     "iopub.status.idle": "2020-07-23T02:37:46.050561Z",
     "shell.execute_reply": "2020-07-23T02:37:46.049844Z",
     "shell.execute_reply.started": "2020-07-23T02:37:46.000360Z"
    }
   },
   "outputs": [
    {
     "data": {
      "text/html": [
       "<div>\n",
       "<style scoped>\n",
       "    .dataframe tbody tr th:only-of-type {\n",
       "        vertical-align: middle;\n",
       "    }\n",
       "\n",
       "    .dataframe tbody tr th {\n",
       "        vertical-align: top;\n",
       "    }\n",
       "\n",
       "    .dataframe thead th {\n",
       "        text-align: right;\n",
       "    }\n",
       "</style>\n",
       "<table border=\"1\" class=\"dataframe\">\n",
       "  <thead>\n",
       "    <tr style=\"text-align: right;\">\n",
       "      <th></th>\n",
       "      <th>subreddit</th>\n",
       "      <th>source</th>\n",
       "      <th>body</th>\n",
       "      <th>sentiment</th>\n",
       "      <th>body_len</th>\n",
       "      <th>word_len</th>\n",
       "    </tr>\n",
       "  </thead>\n",
       "  <tbody>\n",
       "    <tr>\n",
       "      <th>0</th>\n",
       "      <td>1</td>\n",
       "      <td>sub</td>\n",
       "      <td>slaughter of the vampires 1962 movie trailer p...</td>\n",
       "      <td>0</td>\n",
       "      <td>140</td>\n",
       "      <td>22</td>\n",
       "    </tr>\n",
       "    <tr>\n",
       "      <th>1</th>\n",
       "      <td>1</td>\n",
       "      <td>sub</td>\n",
       "      <td>dead earth aka two of us 2020 movie trailer pl...</td>\n",
       "      <td>0</td>\n",
       "      <td>178</td>\n",
       "      <td>34</td>\n",
       "    </tr>\n",
       "    <tr>\n",
       "      <th>2</th>\n",
       "      <td>1</td>\n",
       "      <td>sub</td>\n",
       "      <td>review on  ready or not  what dose everyone think</td>\n",
       "      <td>1</td>\n",
       "      <td>49</td>\n",
       "      <td>9</td>\n",
       "    </tr>\n",
       "    <tr>\n",
       "      <th>3</th>\n",
       "      <td>1</td>\n",
       "      <td>sub</td>\n",
       "      <td>new video trailer roh mati paksa indonesia 202...</td>\n",
       "      <td>1</td>\n",
       "      <td>90</td>\n",
       "      <td>13</td>\n",
       "    </tr>\n",
       "    <tr>\n",
       "      <th>4</th>\n",
       "      <td>1</td>\n",
       "      <td>sub</td>\n",
       "      <td>bloodshot 2020 movie trailer plot ray garrison...</td>\n",
       "      <td>1</td>\n",
       "      <td>113</td>\n",
       "      <td>17</td>\n",
       "    </tr>\n",
       "    <tr>\n",
       "      <th>...</th>\n",
       "      <td>...</td>\n",
       "      <td>...</td>\n",
       "      <td>...</td>\n",
       "      <td>...</td>\n",
       "      <td>...</td>\n",
       "      <td>...</td>\n",
       "    </tr>\n",
       "    <tr>\n",
       "      <th>4179</th>\n",
       "      <td>0</td>\n",
       "      <td>subst</td>\n",
       "      <td>i recently finished american horror story 1984...</td>\n",
       "      <td>1</td>\n",
       "      <td>158</td>\n",
       "      <td>29</td>\n",
       "    </tr>\n",
       "    <tr>\n",
       "      <th>4180</th>\n",
       "      <td>0</td>\n",
       "      <td>subst</td>\n",
       "      <td>we all know the horror genre has taken a backs...</td>\n",
       "      <td>1</td>\n",
       "      <td>172</td>\n",
       "      <td>34</td>\n",
       "    </tr>\n",
       "    <tr>\n",
       "      <th>4181</th>\n",
       "      <td>0</td>\n",
       "      <td>subst</td>\n",
       "      <td>i went over 4th of july weekend to see jurassi...</td>\n",
       "      <td>1</td>\n",
       "      <td>445</td>\n",
       "      <td>88</td>\n",
       "    </tr>\n",
       "    <tr>\n",
       "      <th>4182</th>\n",
       "      <td>0</td>\n",
       "      <td>subst</td>\n",
       "      <td>personally im a huge fan of both ill almost al...</td>\n",
       "      <td>1</td>\n",
       "      <td>1385</td>\n",
       "      <td>257</td>\n",
       "    </tr>\n",
       "    <tr>\n",
       "      <th>4183</th>\n",
       "      <td>0</td>\n",
       "      <td>subst</td>\n",
       "      <td>does anybody else with amazon fire have blue b...</td>\n",
       "      <td>0</td>\n",
       "      <td>155</td>\n",
       "      <td>30</td>\n",
       "    </tr>\n",
       "  </tbody>\n",
       "</table>\n",
       "<p>4183 rows × 6 columns</p>\n",
       "</div>"
      ],
      "text/plain": [
       "      subreddit source                                               body  \\\n",
       "0             1    sub  slaughter of the vampires 1962 movie trailer p...   \n",
       "1             1    sub  dead earth aka two of us 2020 movie trailer pl...   \n",
       "2             1    sub  review on  ready or not  what dose everyone think   \n",
       "3             1    sub  new video trailer roh mati paksa indonesia 202...   \n",
       "4             1    sub  bloodshot 2020 movie trailer plot ray garrison...   \n",
       "...         ...    ...                                                ...   \n",
       "4179          0  subst  i recently finished american horror story 1984...   \n",
       "4180          0  subst  we all know the horror genre has taken a backs...   \n",
       "4181          0  subst  i went over 4th of july weekend to see jurassi...   \n",
       "4182          0  subst  personally im a huge fan of both ill almost al...   \n",
       "4183          0  subst  does anybody else with amazon fire have blue b...   \n",
       "\n",
       "      sentiment  body_len  word_len  \n",
       "0             0       140        22  \n",
       "1             0       178        34  \n",
       "2             1        49         9  \n",
       "3             1        90        13  \n",
       "4             1       113        17  \n",
       "...         ...       ...       ...  \n",
       "4179          1       158        29  \n",
       "4180          1       172        34  \n",
       "4181          1       445        88  \n",
       "4182          1      1385       257  \n",
       "4183          0       155        30  \n",
       "\n",
       "[4183 rows x 6 columns]"
      ]
     },
     "execution_count": 3,
     "metadata": {},
     "output_type": "execute_result"
    }
   ],
   "source": [
    "df = pd.read_csv('./data/clean_sentiment.csv')\n",
    "df.dropna(inplace=True)\n",
    "df['subreddit']= df['subreddit'].astype('int')\n",
    "df"
   ]
  },
  {
   "cell_type": "code",
   "execution_count": 4,
   "metadata": {
    "execution": {
     "iopub.execute_input": "2020-07-23T02:37:49.491206Z",
     "iopub.status.busy": "2020-07-23T02:37:49.490874Z",
     "iopub.status.idle": "2020-07-23T02:37:49.497894Z",
     "shell.execute_reply": "2020-07-23T02:37:49.495363Z",
     "shell.execute_reply.started": "2020-07-23T02:37:49.491179Z"
    }
   },
   "outputs": [],
   "source": [
    "X = df['body']\n",
    "y = df['subreddit']"
   ]
  },
  {
   "cell_type": "code",
   "execution_count": 5,
   "metadata": {
    "execution": {
     "iopub.execute_input": "2020-07-23T02:37:50.107783Z",
     "iopub.status.busy": "2020-07-23T02:37:50.107320Z",
     "iopub.status.idle": "2020-07-23T02:37:50.125415Z",
     "shell.execute_reply": "2020-07-23T02:37:50.124587Z",
     "shell.execute_reply.started": "2020-07-23T02:37:50.107752Z"
    }
   },
   "outputs": [
    {
     "data": {
      "text/plain": [
       "0    0.588812\n",
       "1    0.411188\n",
       "Name: subreddit, dtype: float64"
      ]
     },
     "execution_count": 5,
     "metadata": {},
     "output_type": "execute_result"
    }
   ],
   "source": [
    "#baseline\n",
    "y.value_counts(normalize=True)"
   ]
  },
  {
   "cell_type": "code",
   "execution_count": 6,
   "metadata": {
    "execution": {
     "iopub.execute_input": "2020-07-23T02:37:50.610496Z",
     "iopub.status.busy": "2020-07-23T02:37:50.610172Z",
     "iopub.status.idle": "2020-07-23T02:37:50.622738Z",
     "shell.execute_reply": "2020-07-23T02:37:50.621959Z",
     "shell.execute_reply.started": "2020-07-23T02:37:50.610469Z"
    }
   },
   "outputs": [],
   "source": [
    "X_train,X_test,y_train,y_test = train_test_split(X,y,test_size=0.2,stratify=y,random_state=42)"
   ]
  },
  {
   "cell_type": "markdown",
   "metadata": {},
   "source": [
    "# Naive Bayes <a class=\"anchor\" id=\"section3\"></a>"
   ]
  },
  {
   "cell_type": "markdown",
   "metadata": {},
   "source": [
    "## MB with Count Vectorizer <a class=\"anchor\" id=\"section3a\"></a>"
   ]
  },
  {
   "cell_type": "code",
   "execution_count": 14,
   "metadata": {
    "execution": {
     "iopub.execute_input": "2020-07-22T13:20:47.838610Z",
     "iopub.status.busy": "2020-07-22T13:20:47.838271Z",
     "iopub.status.idle": "2020-07-22T13:21:35.971548Z",
     "shell.execute_reply": "2020-07-22T13:21:35.969987Z",
     "shell.execute_reply.started": "2020-07-22T13:20:47.838583Z"
    }
   },
   "outputs": [
    {
     "name": "stdout",
     "output_type": "stream",
     "text": [
      "0.8045507886576088\n"
     ]
    },
    {
     "data": {
      "text/plain": [
       "{'cvec__max_df': 0.9,\n",
       " 'cvec__max_features': 5000,\n",
       " 'cvec__min_df': 2,\n",
       " 'cvec__ngram_range': (1, 2),\n",
       " 'cvec__stop_words': 'english'}"
      ]
     },
     "execution_count": 14,
     "metadata": {},
     "output_type": "execute_result"
    }
   ],
   "source": [
    "mbcvec_pipe = Pipeline([\n",
    "    ('cvec',CountVectorizer()),\n",
    "    ('mb',MultinomialNB())\n",
    "])\n",
    "\n",
    "params = {'cvec__max_features': [2000, 3000, 4000, 5000], \n",
    "                 'cvec__min_df': [2, 3],\n",
    "                 'cvec__max_df': [.9, .95],\n",
    "                 'cvec__ngram_range': [(1, 1), (1, 2)],\n",
    "                 'cvec__stop_words':[None,'english']}\n",
    "\n",
    "gs = GridSearchCV(mbcvec_pipe,param_grid=params)\n",
    "gs.fit(X_train,y_train)\n",
    "print(gs.best_score_)\n",
    "gs.best_params_"
   ]
  },
  {
   "cell_type": "markdown",
   "metadata": {},
   "source": [
    "__GridSearchCV Predictions__"
   ]
  },
  {
   "cell_type": "code",
   "execution_count": 7,
   "metadata": {
    "execution": {
     "iopub.execute_input": "2020-07-22T12:56:26.888508Z",
     "iopub.status.busy": "2020-07-22T12:56:26.887989Z",
     "iopub.status.idle": "2020-07-22T12:56:27.499732Z",
     "shell.execute_reply": "2020-07-22T12:56:27.498583Z",
     "shell.execute_reply.started": "2020-07-22T12:56:26.888468Z"
    }
   },
   "outputs": [
    {
     "data": {
      "image/png": "[encoded data removed]",
      "text/plain": [
       "<Figure size 432x288 with 2 Axes>"
      ]
     },
     "metadata": {
      "needs_background": "light"
     },
     "output_type": "display_data"
    }
   ],
   "source": [
    "preds_mbcvec = gs.predict(X_test)\n",
    "\n",
    "tn,fp,fn,tp = confusion_matrix(y_test,preds_mbcvec).ravel()\n",
    "plot_confusion_matrix (gs,X_test,y_test,cmap='Blues',values_format = 'd');"
   ]
  },
  {
   "cell_type": "code",
   "execution_count": 8,
   "metadata": {
    "execution": {
     "iopub.execute_input": "2020-07-22T12:56:27.506093Z",
     "iopub.status.busy": "2020-07-22T12:56:27.505696Z",
     "iopub.status.idle": "2020-07-22T12:56:27.551274Z",
     "shell.execute_reply": "2020-07-22T12:56:27.549933Z",
     "shell.execute_reply.started": "2020-07-22T12:56:27.506067Z"
    }
   },
   "outputs": [
    {
     "name": "stdout",
     "output_type": "stream",
     "text": [
      "Sensitivity is 0.6598837209302325\n",
      "Specificity is 0.8803245436105477\n",
      "Precision is 0.7937062937062938\n",
      "Accuracy is 0.7897252090800478\n",
      "Misclassification Rate is 0.21027479091995216\n"
     ]
    }
   ],
   "source": [
    "mbcvec = conf_mat(tn,fp,fn,tp)\n",
    "mbcvec.all()"
   ]
  },
  {
   "cell_type": "markdown",
   "metadata": {},
   "source": [
    "## MB with TfidVectorizer <a class=\"anchor\" id=\"section3b\"></a>"
   ]
  },
  {
   "cell_type": "code",
   "execution_count": 13,
   "metadata": {
    "execution": {
     "iopub.execute_input": "2020-07-23T02:41:58.781515Z",
     "iopub.status.busy": "2020-07-23T02:41:58.781159Z",
     "iopub.status.idle": "2020-07-23T02:42:56.261634Z",
     "shell.execute_reply": "2020-07-23T02:42:56.260556Z",
     "shell.execute_reply.started": "2020-07-23T02:41:58.781485Z"
    }
   },
   "outputs": [
    {
     "name": "stdout",
     "output_type": "stream",
     "text": [
      "0.8144153671106352\n"
     ]
    },
    {
     "data": {
      "text/plain": [
       "{'tvec__max_df': 0.8,\n",
       " 'tvec__max_features': 5000,\n",
       " 'tvec__min_df': 2,\n",
       " 'tvec__ngram_range': (1, 2),\n",
       " 'tvec__stop_words': 'english'}"
      ]
     },
     "execution_count": 13,
     "metadata": {},
     "output_type": "execute_result"
    }
   ],
   "source": [
    "mbtvec_pipe = Pipeline([\n",
    "    ('tvec',TfidfVectorizer()),\n",
    "    ('mb',MultinomialNB())\n",
    "])\n",
    "\n",
    "params = {'tvec__max_features': [50, 500, 5000],\n",
    "          'tvec__min_df': [2, 3],\n",
    "          'tvec__max_df': [.8, .9, .95],\n",
    "          'tvec__ngram_range': [(1, 1), (1, 2)],\n",
    "          'tvec__stop_words':[None,'english']}\n",
    "\n",
    "gs = GridSearchCV(mbtvec_pipe,param_grid=params)\n",
    "gs.fit(X_train,y_train)\n",
    "print(gs.best_score_)\n",
    "gs.best_params_"
   ]
  },
  {
   "cell_type": "markdown",
   "metadata": {},
   "source": [
    "__GridSearchCV Predictions__"
   ]
  },
  {
   "cell_type": "code",
   "execution_count": 11,
   "metadata": {
    "execution": {
     "iopub.execute_input": "2020-07-23T02:41:06.904328Z",
     "iopub.status.busy": "2020-07-23T02:41:06.903600Z",
     "iopub.status.idle": "2020-07-23T02:41:07.240255Z",
     "shell.execute_reply": "2020-07-23T02:41:07.239288Z",
     "shell.execute_reply.started": "2020-07-23T02:41:06.904282Z"
    }
   },
   "outputs": [
    {
     "data": {
      "image/png": "[encoded data removed]",
      "text/plain": [
       "<Figure size 432x288 with 2 Axes>"
      ]
     },
     "metadata": {
      "needs_background": "light"
     },
     "output_type": "display_data"
    }
   ],
   "source": [
    "preds_mbtvec = gs.predict(X_test)\n",
    "\n",
    "tn,fp,fn,tp = confusion_matrix(y_test,preds_mbtvec).ravel()\n",
    "plot_confusion_matrix (gs,X_test,y_test,cmap='Blues',values_format = 'd');"
   ]
  },
  {
   "cell_type": "code",
   "execution_count": 12,
   "metadata": {
    "execution": {
     "iopub.execute_input": "2020-07-23T02:41:07.243933Z",
     "iopub.status.busy": "2020-07-23T02:41:07.243271Z",
     "iopub.status.idle": "2020-07-23T02:41:07.329969Z",
     "shell.execute_reply": "2020-07-23T02:41:07.297494Z",
     "shell.execute_reply.started": "2020-07-23T02:41:07.243885Z"
    }
   },
   "outputs": [
    {
     "name": "stdout",
     "output_type": "stream",
     "text": [
      "Sensitivity is 0.6046511627906976\n",
      "Specificity is 0.9533468559837728\n",
      "Precision is 0.9004329004329005\n",
      "Accuracy is 0.8100358422939068\n",
      "Misclassification Rate is 0.1899641577060932\n"
     ]
    }
   ],
   "source": [
    "mbtvec = conf_mat(tn,fp,fn,tp)\n",
    "mbtvec.all()"
   ]
  },
  {
   "cell_type": "markdown",
   "metadata": {},
   "source": [
    "# Decision Tree <a class=\"anchor\" id=\"section4\"></a>\n",
    "Since the TfidVectorizer perfomed better with this dataset, I used TfidVectorizer in the Decision Tree"
   ]
  },
  {
   "cell_type": "code",
   "execution_count": 15,
   "metadata": {
    "execution": {
     "iopub.execute_input": "2020-07-22T13:21:35.973946Z",
     "iopub.status.busy": "2020-07-22T13:21:35.973511Z",
     "iopub.status.idle": "2020-07-22T13:26:03.318277Z",
     "shell.execute_reply": "2020-07-22T13:26:03.316811Z",
     "shell.execute_reply.started": "2020-07-22T13:21:35.973905Z"
    }
   },
   "outputs": [
    {
     "name": "stdout",
     "output_type": "stream",
     "text": [
      "0.7872092452535528\n"
     ]
    },
    {
     "data": {
      "text/plain": [
       "{'tvec__max_features': 3000,\n",
       " 'tvec__ngram_range': (1, 1),\n",
       " 'tvec__stop_words': None,\n",
       " 'vote__ada__n_estimators': 100,\n",
       " 'vote__grad_boost__n_estimators': 50}"
      ]
     },
     "execution_count": 15,
     "metadata": {},
     "output_type": "execute_result"
    }
   ],
   "source": [
    "vote = VotingClassifier([\n",
    "    ('ada',AdaBoostClassifier()),\n",
    "    ('grad_boost',GradientBoostingClassifier()),\n",
    "    ('tree',DecisionTreeClassifier())\n",
    "]) \n",
    "\n",
    "\n",
    "pipe = Pipeline([\n",
    "    ('tvec', TfidfVectorizer()),\n",
    "    ('vote', vote)\n",
    "])\n",
    "\n",
    "params={'tvec__max_features': [2000, 3000, 4000, 5000], \n",
    "        'tvec__min_df': [2, 3],\n",
    "        'tvec__max_df': [.8,.9, .95],\n",
    "        'tvec__ngram_range': [(1, 1), (1, 2)],\n",
    "        'tvec__stop_words':[None,'english'],\n",
    "        'vote__ada__n_estimators':[50,100,200],\n",
    "        'vote__grad_boost__n_estimators':[50,100,200]\n",
    "        }\n",
    "gs = GridSearchCV(pipe,param_grid=params)\n",
    "gs.fit(X_train,y_train)\n",
    "print(gs.best_score_)\n",
    "gs.best_params_"
   ]
  },
  {
   "cell_type": "markdown",
   "metadata": {},
   "source": [
    "__GridSearchCV Predictions__"
   ]
  },
  {
   "cell_type": "code",
   "execution_count": 10,
   "metadata": {
    "execution": {
     "iopub.execute_input": "2020-07-22T13:07:13.080849Z",
     "iopub.status.busy": "2020-07-22T13:07:13.080235Z",
     "iopub.status.idle": "2020-07-22T13:07:13.600062Z",
     "shell.execute_reply": "2020-07-22T13:07:13.599146Z",
     "shell.execute_reply.started": "2020-07-22T13:07:13.080800Z"
    }
   },
   "outputs": [
    {
     "data": {
      "image/png": "[encoded data removed]",
      "text/plain": [
       "<Figure size 432x288 with 2 Axes>"
      ]
     },
     "metadata": {
      "needs_background": "light"
     },
     "output_type": "display_data"
    }
   ],
   "source": [
    "preds_vote = gs.predict(X_test)\n",
    "\n",
    "tn,fp,fn,tp = confusion_matrix(y_test,preds_vote).ravel()\n",
    "plot_confusion_matrix (gs,X_test,y_test,cmap='Blues',values_format = 'd');"
   ]
  },
  {
   "cell_type": "code",
   "execution_count": 11,
   "metadata": {
    "execution": {
     "iopub.execute_input": "2020-07-22T13:07:13.602020Z",
     "iopub.status.busy": "2020-07-22T13:07:13.601534Z",
     "iopub.status.idle": "2020-07-22T13:07:13.614354Z",
     "shell.execute_reply": "2020-07-22T13:07:13.611297Z",
     "shell.execute_reply.started": "2020-07-22T13:07:13.601986Z"
    }
   },
   "outputs": [
    {
     "name": "stdout",
     "output_type": "stream",
     "text": [
      "Sensitivity is 0.6308139534883721\n",
      "Specificity is 0.9107505070993914\n",
      "Precision is 0.8314176245210728\n",
      "Accuracy is 0.7956989247311828\n",
      "Misclassification Rate is 0.20430107526881724\n"
     ]
    }
   ],
   "source": [
    "vote = conf_mat(tn,fp,fn,tp)\n",
    "vote.all()"
   ]
  }
 ],
 "metadata": {
  "kernelspec": {
   "display_name": "Python 3",
   "language": "python",
   "name": "python3"
  },
  "language_info": {
   "codemirror_mode": {
    "name": "ipython",
    "version": 3
   },
   "file_extension": ".py",
   "mimetype": "text/x-python",
   "name": "python",
   "nbconvert_exporter": "python",
   "pygments_lexer": "ipython3",
   "version": "3.7.7"
  }
 },
 "nbformat": 4,
 "nbformat_minor": 4
}
