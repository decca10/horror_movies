{
 "cells": [
  {
   "cell_type": "markdown",
   "metadata": {},
   "source": [
    "# Getting to the Gore of it all...\n",
    "\n",
    "In this section I will explore various models to predict positive or negative reviews.  Once I find the best model, I will use it to predict other sites as being generally positive to direct my friend Kari to.  \n",
    "\n",
    "I will be using pipelines to combine Vectorizers with models to test which one is performing the best.  I will be running the models on the premise of:   \n",
    "1. a complete dataframe consisting of submissions, comments and subset of selftext combined to create a better sample.\n",
    "2. POSITIVE reviews as 1 and NEGATIVE reviews as 0.\n",
    "\n",
    "\n",
    "___Table of Contents___\n",
    "\n",
    "- [Imports](#section1)\n",
    "- [Testing Environment](#section2)\n",
    "- [Naive Bayes](#section3)\n",
    "    - [MB with Count Vectorizer](#section3a)\n",
    "    - [MB with TfidVectorizer](#section3b)\n",
    "- [Decision Tree](#section4)"
   ]
  },
  {
   "cell_type": "markdown",
   "metadata": {},
   "source": [
    "# Imports <a class=\"anchor\" id=\"section1\"></a>"
   ]
  },
  {
   "cell_type": "code",
   "execution_count": 1,
   "metadata": {
    "execution": {
     "iopub.execute_input": "2020-07-23T02:47:20.875625Z",
     "iopub.status.busy": "2020-07-23T02:47:20.875095Z",
     "iopub.status.idle": "2020-07-23T02:47:22.127600Z",
     "shell.execute_reply": "2020-07-23T02:47:22.126670Z",
     "shell.execute_reply.started": "2020-07-23T02:47:20.875588Z"
    }
   },
   "outputs": [],
   "source": [
    "import pandas as pd\n",
    "import matplotlib.pyplot as plt\n",
    "\n",
    "#import models\n",
    "from sklearn.model_selection import train_test_split, GridSearchCV\n",
    "from sklearn.pipeline import Pipeline\n",
    "from sklearn.naive_bayes import MultinomialNB\n",
    "from sklearn.tree import DecisionTreeClassifier\n",
    "from sklearn.metrics import confusion_matrix, plot_confusion_matrix\n",
    "\n",
    "# Import vectorizers.\n",
    "from sklearn.feature_extraction.text import CountVectorizer,TfidfVectorizer\n",
    "from pred_confmatrix import conf_mat\n",
    "\n",
    "#import ensembles\n",
    "from sklearn.ensemble import AdaBoostClassifier,VotingClassifier,GradientBoostingClassifier"
   ]
  },
  {
   "cell_type": "markdown",
   "metadata": {},
   "source": [
    "# Testing Environment  <a class=\"anchor\" id=\"section2\"></a>"
   ]
  },
  {
   "cell_type": "code",
   "execution_count": 2,
   "metadata": {
    "execution": {
     "iopub.execute_input": "2020-07-23T02:47:22.131238Z",
     "iopub.status.busy": "2020-07-23T02:47:22.130662Z",
     "iopub.status.idle": "2020-07-23T02:47:22.256629Z",
     "shell.execute_reply": "2020-07-23T02:47:22.255737Z",
     "shell.execute_reply.started": "2020-07-23T02:47:22.131199Z"
    }
   },
   "outputs": [
    {
     "data": {
      "text/html": [
       "<div>\n",
       "<style scoped>\n",
       "    .dataframe tbody tr th:only-of-type {\n",
       "        vertical-align: middle;\n",
       "    }\n",
       "\n",
       "    .dataframe tbody tr th {\n",
       "        vertical-align: top;\n",
       "    }\n",
       "\n",
       "    .dataframe thead th {\n",
       "        text-align: right;\n",
       "    }\n",
       "</style>\n",
       "<table border=\"1\" class=\"dataframe\">\n",
       "  <thead>\n",
       "    <tr style=\"text-align: right;\">\n",
       "      <th></th>\n",
       "      <th>subreddit</th>\n",
       "      <th>source</th>\n",
       "      <th>body</th>\n",
       "      <th>sentiment</th>\n",
       "      <th>body_len</th>\n",
       "      <th>word_len</th>\n",
       "    </tr>\n",
       "  </thead>\n",
       "  <tbody>\n",
       "    <tr>\n",
       "      <th>0</th>\n",
       "      <td>1.0</td>\n",
       "      <td>sub</td>\n",
       "      <td>slaughter of the vampires 1962 movie trailer p...</td>\n",
       "      <td>0</td>\n",
       "      <td>140</td>\n",
       "      <td>22</td>\n",
       "    </tr>\n",
       "    <tr>\n",
       "      <th>1</th>\n",
       "      <td>1.0</td>\n",
       "      <td>sub</td>\n",
       "      <td>dead earth aka two of us 2020 movie trailer pl...</td>\n",
       "      <td>0</td>\n",
       "      <td>178</td>\n",
       "      <td>34</td>\n",
       "    </tr>\n",
       "    <tr>\n",
       "      <th>2</th>\n",
       "      <td>1.0</td>\n",
       "      <td>sub</td>\n",
       "      <td>review on  ready or not  what dose everyone think</td>\n",
       "      <td>1</td>\n",
       "      <td>49</td>\n",
       "      <td>9</td>\n",
       "    </tr>\n",
       "    <tr>\n",
       "      <th>3</th>\n",
       "      <td>1.0</td>\n",
       "      <td>sub</td>\n",
       "      <td>new video trailer roh mati paksa indonesia 202...</td>\n",
       "      <td>1</td>\n",
       "      <td>90</td>\n",
       "      <td>13</td>\n",
       "    </tr>\n",
       "    <tr>\n",
       "      <th>4</th>\n",
       "      <td>1.0</td>\n",
       "      <td>sub</td>\n",
       "      <td>bloodshot 2020 movie trailer plot ray garrison...</td>\n",
       "      <td>1</td>\n",
       "      <td>113</td>\n",
       "      <td>17</td>\n",
       "    </tr>\n",
       "    <tr>\n",
       "      <th>...</th>\n",
       "      <td>...</td>\n",
       "      <td>...</td>\n",
       "      <td>...</td>\n",
       "      <td>...</td>\n",
       "      <td>...</td>\n",
       "      <td>...</td>\n",
       "    </tr>\n",
       "    <tr>\n",
       "      <th>4179</th>\n",
       "      <td>0.0</td>\n",
       "      <td>subst</td>\n",
       "      <td>i recently finished american horror story 1984...</td>\n",
       "      <td>1</td>\n",
       "      <td>158</td>\n",
       "      <td>29</td>\n",
       "    </tr>\n",
       "    <tr>\n",
       "      <th>4180</th>\n",
       "      <td>0.0</td>\n",
       "      <td>subst</td>\n",
       "      <td>we all know the horror genre has taken a backs...</td>\n",
       "      <td>1</td>\n",
       "      <td>172</td>\n",
       "      <td>34</td>\n",
       "    </tr>\n",
       "    <tr>\n",
       "      <th>4181</th>\n",
       "      <td>0.0</td>\n",
       "      <td>subst</td>\n",
       "      <td>i went over 4th of july weekend to see jurassi...</td>\n",
       "      <td>1</td>\n",
       "      <td>445</td>\n",
       "      <td>88</td>\n",
       "    </tr>\n",
       "    <tr>\n",
       "      <th>4182</th>\n",
       "      <td>0.0</td>\n",
       "      <td>subst</td>\n",
       "      <td>personally im a huge fan of both ill almost al...</td>\n",
       "      <td>1</td>\n",
       "      <td>1385</td>\n",
       "      <td>257</td>\n",
       "    </tr>\n",
       "    <tr>\n",
       "      <th>4183</th>\n",
       "      <td>0.0</td>\n",
       "      <td>subst</td>\n",
       "      <td>does anybody else with amazon fire have blue b...</td>\n",
       "      <td>0</td>\n",
       "      <td>155</td>\n",
       "      <td>30</td>\n",
       "    </tr>\n",
       "  </tbody>\n",
       "</table>\n",
       "<p>4183 rows × 6 columns</p>\n",
       "</div>"
      ],
      "text/plain": [
       "      subreddit source                                               body  \\\n",
       "0           1.0    sub  slaughter of the vampires 1962 movie trailer p...   \n",
       "1           1.0    sub  dead earth aka two of us 2020 movie trailer pl...   \n",
       "2           1.0    sub  review on  ready or not  what dose everyone think   \n",
       "3           1.0    sub  new video trailer roh mati paksa indonesia 202...   \n",
       "4           1.0    sub  bloodshot 2020 movie trailer plot ray garrison...   \n",
       "...         ...    ...                                                ...   \n",
       "4179        0.0  subst  i recently finished american horror story 1984...   \n",
       "4180        0.0  subst  we all know the horror genre has taken a backs...   \n",
       "4181        0.0  subst  i went over 4th of july weekend to see jurassi...   \n",
       "4182        0.0  subst  personally im a huge fan of both ill almost al...   \n",
       "4183        0.0  subst  does anybody else with amazon fire have blue b...   \n",
       "\n",
       "      sentiment  body_len  word_len  \n",
       "0             0       140        22  \n",
       "1             0       178        34  \n",
       "2             1        49         9  \n",
       "3             1        90        13  \n",
       "4             1       113        17  \n",
       "...         ...       ...       ...  \n",
       "4179          1       158        29  \n",
       "4180          1       172        34  \n",
       "4181          1       445        88  \n",
       "4182          1      1385       257  \n",
       "4183          0       155        30  \n",
       "\n",
       "[4183 rows x 6 columns]"
      ]
     },
     "execution_count": 2,
     "metadata": {},
     "output_type": "execute_result"
    }
   ],
   "source": [
    "df = pd.read_csv('./data/clean_sentiment.csv')\n",
    "df.dropna(inplace=True)\n",
    "df"
   ]
  },
  {
   "cell_type": "code",
   "execution_count": 3,
   "metadata": {
    "execution": {
     "iopub.execute_input": "2020-07-23T02:47:22.260372Z",
     "iopub.status.busy": "2020-07-23T02:47:22.259665Z",
     "iopub.status.idle": "2020-07-23T02:47:22.294195Z",
     "shell.execute_reply": "2020-07-23T02:47:22.276303Z",
     "shell.execute_reply.started": "2020-07-23T02:47:22.260328Z"
    }
   },
   "outputs": [],
   "source": [
    "X = df['body']\n",
    "y = df['sentiment']"
   ]
  },
  {
   "cell_type": "code",
   "execution_count": 4,
   "metadata": {
    "execution": {
     "iopub.execute_input": "2020-07-23T02:47:22.297651Z",
     "iopub.status.busy": "2020-07-23T02:47:22.297131Z",
     "iopub.status.idle": "2020-07-23T02:47:22.341893Z",
     "shell.execute_reply": "2020-07-23T02:47:22.339905Z",
     "shell.execute_reply.started": "2020-07-23T02:47:22.297601Z"
    }
   },
   "outputs": [
    {
     "data": {
      "text/plain": [
       "1    0.735357\n",
       "0    0.264643\n",
       "Name: sentiment, dtype: float64"
      ]
     },
     "execution_count": 4,
     "metadata": {},
     "output_type": "execute_result"
    }
   ],
   "source": [
    "#baseline\n",
    "y.value_counts(normalize=True)"
   ]
  },
  {
   "cell_type": "code",
   "execution_count": 5,
   "metadata": {
    "execution": {
     "iopub.execute_input": "2020-07-23T02:47:22.373158Z",
     "iopub.status.busy": "2020-07-23T02:47:22.343781Z",
     "iopub.status.idle": "2020-07-23T02:47:22.385397Z",
     "shell.execute_reply": "2020-07-23T02:47:22.384472Z",
     "shell.execute_reply.started": "2020-07-23T02:47:22.372929Z"
    }
   },
   "outputs": [],
   "source": [
    "X_train,X_test,y_train,y_test = train_test_split(X,y,test_size=0.2,stratify=y,random_state=42)"
   ]
  },
  {
   "cell_type": "markdown",
   "metadata": {},
   "source": [
    "# Naive Bayes <a class=\"anchor\" id=\"section3\"></a>"
   ]
  },
  {
   "cell_type": "markdown",
   "metadata": {},
   "source": [
    "## MB with Count Vectorizer <a class=\"anchor\" id=\"section3a\"></a>"
   ]
  },
  {
   "cell_type": "code",
   "execution_count": 6,
   "metadata": {
    "execution": {
     "iopub.execute_input": "2020-07-23T02:47:22.392080Z",
     "iopub.status.busy": "2020-07-23T02:47:22.391234Z",
     "iopub.status.idle": "2020-07-23T02:48:37.799273Z",
     "shell.execute_reply": "2020-07-23T02:48:37.797627Z",
     "shell.execute_reply.started": "2020-07-23T02:47:22.392036Z"
    }
   },
   "outputs": [
    {
     "name": "stdout",
     "output_type": "stream",
     "text": [
      "0.8302469714209222\n"
     ]
    },
    {
     "data": {
      "text/plain": [
       "{'cvec__max_df': 0.7,\n",
       " 'cvec__max_features': 5000,\n",
       " 'cvec__min_df': 2,\n",
       " 'cvec__ngram_range': (1, 2),\n",
       " 'cvec__stop_words': 'english'}"
      ]
     },
     "execution_count": 6,
     "metadata": {},
     "output_type": "execute_result"
    }
   ],
   "source": [
    "mbcvec_pipe = Pipeline([\n",
    "    ('cvec',CountVectorizer()),\n",
    "    ('mb',MultinomialNB())\n",
    "])\n",
    "\n",
    "params = {'cvec__max_features': [50, 500, 5000], \n",
    "                 'cvec__min_df': [2, 3],\n",
    "                 'cvec__max_df': [.7,.8,.9, .95],\n",
    "                 'cvec__ngram_range': [(1, 1), (1, 2)],\n",
    "                 'cvec__stop_words':[None,'english']}\n",
    "\n",
    "gs = GridSearchCV(mbcvec_pipe,param_grid=params)\n",
    "gs.fit(X_train,y_train)\n",
    "print(gs.best_score_)\n",
    "gs.best_params_"
   ]
  },
  {
   "cell_type": "markdown",
   "metadata": {},
   "source": [
    "__GridSearchCV Predictions__"
   ]
  },
  {
   "cell_type": "code",
   "execution_count": 7,
   "metadata": {
    "execution": {
     "iopub.execute_input": "2020-07-23T02:48:37.801975Z",
     "iopub.status.busy": "2020-07-23T02:48:37.801223Z",
     "iopub.status.idle": "2020-07-23T02:48:38.172543Z",
     "shell.execute_reply": "2020-07-23T02:48:38.171161Z",
     "shell.execute_reply.started": "2020-07-23T02:48:37.801924Z"
    }
   },
   "outputs": [
    {
     "data": {
      "image/png": "[encoded data removed]",
      "text/plain": [
       "<Figure size 432x288 with 2 Axes>"
      ]
     },
     "metadata": {
      "needs_background": "light"
     },
     "output_type": "display_data"
    }
   ],
   "source": [
    "preds_mbcvec = gs.predict(X_test)\n",
    "\n",
    "tn,fp,fn,tp = confusion_matrix(y_test,preds_mbcvec).ravel()\n",
    "plot_confusion_matrix (gs,X_test,y_test,cmap='Blues',values_format = 'd');"
   ]
  },
  {
   "cell_type": "code",
   "execution_count": 8,
   "metadata": {
    "execution": {
     "iopub.execute_input": "2020-07-23T02:48:38.183848Z",
     "iopub.status.busy": "2020-07-23T02:48:38.174179Z",
     "iopub.status.idle": "2020-07-23T02:48:38.280396Z",
     "shell.execute_reply": "2020-07-23T02:48:38.268166Z",
     "shell.execute_reply.started": "2020-07-23T02:48:38.183791Z"
    }
   },
   "outputs": [
    {
     "name": "stdout",
     "output_type": "stream",
     "text": [
      "Sensitivity is 0.9073170731707317\n",
      "Specificity is 0.5720720720720721\n",
      "Precision is 0.8545176110260337\n",
      "Accuracy is 0.8183990442054958\n",
      "Misclassification Rate is 0.1816009557945042\n"
     ]
    }
   ],
   "source": [
    "mbcvec = conf_mat(tn,fp,fn,tp)\n",
    "mbcvec.all()"
   ]
  },
  {
   "cell_type": "markdown",
   "metadata": {},
   "source": [
    "## MB with TfidVectorizer <a class=\"anchor\" id=\"section3b\"></a>"
   ]
  },
  {
   "cell_type": "code",
   "execution_count": 9,
   "metadata": {
    "execution": {
     "iopub.execute_input": "2020-07-23T02:48:38.367143Z",
     "iopub.status.busy": "2020-07-23T02:48:38.363616Z",
     "iopub.status.idle": "2020-07-23T02:48:48.644965Z",
     "shell.execute_reply": "2020-07-23T02:48:48.640809Z",
     "shell.execute_reply.started": "2020-07-23T02:48:38.367102Z"
    }
   },
   "outputs": [
    {
     "name": "stdout",
     "output_type": "stream",
     "text": [
      "0.8057430337103717\n"
     ]
    },
    {
     "data": {
      "text/plain": [
       "{'tvec__max_features': 5000,\n",
       " 'tvec__ngram_range': (1, 2),\n",
       " 'tvec__stop_words': 'english'}"
      ]
     },
     "execution_count": 9,
     "metadata": {},
     "output_type": "execute_result"
    }
   ],
   "source": [
    "mbtvec_pipe = Pipeline([\n",
    "    ('tvec',TfidfVectorizer()),\n",
    "    ('mb',MultinomialNB())\n",
    "])\n",
    "\n",
    "params = {'tvec__max_features': [50, 500, 5000], \n",
    "        'tvec__ngram_range': [(1, 1), (1, 2)],\n",
    "        'tvec__stop_words':[None,'english'],}\n",
    "\n",
    "gs = GridSearchCV(mbtvec_pipe,param_grid=params)\n",
    "gs.fit(X_train,y_train)\n",
    "print(gs.best_score_)\n",
    "gs.best_params_"
   ]
  },
  {
   "cell_type": "markdown",
   "metadata": {},
   "source": [
    "__GridSearchCV Predictions__"
   ]
  },
  {
   "cell_type": "code",
   "execution_count": 10,
   "metadata": {
    "execution": {
     "iopub.execute_input": "2020-07-23T02:48:48.650368Z",
     "iopub.status.busy": "2020-07-23T02:48:48.649779Z",
     "iopub.status.idle": "2020-07-23T02:48:48.936041Z",
     "shell.execute_reply": "2020-07-23T02:48:48.934887Z",
     "shell.execute_reply.started": "2020-07-23T02:48:48.650331Z"
    }
   },
   "outputs": [
    {
     "data": {
      "image/png": "[encoded data removed]",
      "text/plain": [
       "<Figure size 432x288 with 2 Axes>"
      ]
     },
     "metadata": {
      "needs_background": "light"
     },
     "output_type": "display_data"
    }
   ],
   "source": [
    "preds_mbtvec = gs.predict(X_test)\n",
    "\n",
    "tn,fp,fn,tp = confusion_matrix(y_test,preds_mbtvec).ravel()\n",
    "plot_confusion_matrix (gs,X_test,y_test,cmap='Blues',values_format = 'd');"
   ]
  },
  {
   "cell_type": "code",
   "execution_count": 11,
   "metadata": {
    "execution": {
     "iopub.execute_input": "2020-07-23T02:48:48.938082Z",
     "iopub.status.busy": "2020-07-23T02:48:48.937631Z",
     "iopub.status.idle": "2020-07-23T02:48:48.972614Z",
     "shell.execute_reply": "2020-07-23T02:48:48.969181Z",
     "shell.execute_reply.started": "2020-07-23T02:48:48.938052Z"
    }
   },
   "outputs": [
    {
     "name": "stdout",
     "output_type": "stream",
     "text": [
      "Sensitivity is 0.9934959349593496\n",
      "Specificity is 0.26576576576576577\n",
      "Precision is 0.789405684754522\n",
      "Accuracy is 0.8004778972520908\n",
      "Misclassification Rate is 0.19952210274790916\n"
     ]
    }
   ],
   "source": [
    "mbtvec = conf_mat(tn,fp,fn,tp)\n",
    "mbtvec.all()"
   ]
  },
  {
   "cell_type": "markdown",
   "metadata": {},
   "source": [
    "# Decision Tree <a class=\"anchor\" id=\"section4\"></a>\n",
    "### Vote ensemble with Boosts, Decision Tree and CountVectorizers\n",
    "Since the CountVectorizer performed better with this dataset, I will be using that for the Decision Tree"
   ]
  },
  {
   "cell_type": "code",
   "execution_count": 12,
   "metadata": {
    "execution": {
     "iopub.execute_input": "2020-07-23T02:48:49.030101Z",
     "iopub.status.busy": "2020-07-23T02:48:48.976757Z",
     "iopub.status.idle": "2020-07-23T03:44:42.414034Z",
     "shell.execute_reply": "2020-07-23T03:44:42.412453Z",
     "shell.execute_reply.started": "2020-07-23T02:48:49.030059Z"
    }
   },
   "outputs": [
    {
     "name": "stdout",
     "output_type": "stream",
     "text": [
      "0.8484800214175758\n"
     ]
    },
    {
     "data": {
      "text/plain": [
       "{'cvec__max_df': 0.9,\n",
       " 'cvec__max_features': 5000,\n",
       " 'cvec__min_df': 2,\n",
       " 'cvec__ngram_range': (1, 2),\n",
       " 'cvec__stop_words': None,\n",
       " 'vote__ada__n_estimators': 200,\n",
       " 'vote__grad_boost__n_estimators': 200}"
      ]
     },
     "execution_count": 12,
     "metadata": {},
     "output_type": "execute_result"
    }
   ],
   "source": [
    "vote = VotingClassifier([\n",
    "    ('ada',AdaBoostClassifier()),\n",
    "    ('grad_boost',GradientBoostingClassifier()),\n",
    "    ('tree',DecisionTreeClassifier())\n",
    "]) \n",
    "\n",
    "\n",
    "pipe = Pipeline([\n",
    "    ('cvec', CountVectorizer()),\n",
    "    ('vote', vote)\n",
    "])\n",
    "\n",
    "params={'cvec__max_features': [50, 500, 5000], \n",
    "        'cvec__min_df': [2, 3],\n",
    "        'cvec__max_df': [.9, .95],\n",
    "        'cvec__ngram_range': [(1, 1), (1, 2)],\n",
    "        'cvec__stop_words':[None,'english'],\n",
    "        'vote__ada__n_estimators':[50,100,200],\n",
    "        'vote__grad_boost__n_estimators':[50,100,200]\n",
    "        }\n",
    "gs = GridSearchCV(pipe,param_grid=params)\n",
    "gs.fit(X_train,y_train)\n",
    "print(gs.best_score_)\n",
    "gs.best_params_"
   ]
  },
  {
   "cell_type": "markdown",
   "metadata": {
    "execution": {
     "iopub.execute_input": "2020-07-22T02:55:16.103456Z",
     "iopub.status.busy": "2020-07-22T02:55:16.103139Z",
     "iopub.status.idle": "2020-07-22T02:55:16.112755Z",
     "shell.execute_reply": "2020-07-22T02:55:16.110781Z",
     "shell.execute_reply.started": "2020-07-22T02:55:16.103428Z"
    }
   },
   "source": [
    "__GridSearchCV Predictions__"
   ]
  },
  {
   "cell_type": "code",
   "execution_count": 13,
   "metadata": {
    "execution": {
     "iopub.execute_input": "2020-07-23T03:44:42.418578Z",
     "iopub.status.busy": "2020-07-23T03:44:42.417372Z",
     "iopub.status.idle": "2020-07-23T03:44:42.947239Z",
     "shell.execute_reply": "2020-07-23T03:44:42.945582Z",
     "shell.execute_reply.started": "2020-07-23T03:44:42.418490Z"
    }
   },
   "outputs": [
    {
     "data": {
      "image/png": "[encoded data removed]",
      "text/plain": [
       "<Figure size 432x288 with 2 Axes>"
      ]
     },
     "metadata": {
      "needs_background": "light"
     },
     "output_type": "display_data"
    }
   ],
   "source": [
    "preds_vote = gs.predict(X_test)\n",
    "\n",
    "tn,fp,fn,tp = confusion_matrix(y_test,preds_vote).ravel()\n",
    "plot_confusion_matrix (gs,X_test,y_test,cmap='Blues',values_format = 'd');"
   ]
  },
  {
   "cell_type": "code",
   "execution_count": 14,
   "metadata": {
    "execution": {
     "iopub.execute_input": "2020-07-23T03:44:42.986958Z",
     "iopub.status.busy": "2020-07-23T03:44:42.949476Z",
     "iopub.status.idle": "2020-07-23T03:44:43.031175Z",
     "shell.execute_reply": "2020-07-23T03:44:43.019176Z",
     "shell.execute_reply.started": "2020-07-23T03:44:42.986869Z"
    }
   },
   "outputs": [
    {
     "name": "stdout",
     "output_type": "stream",
     "text": [
      "Sensitivity is 0.9609756097560975\n",
      "Specificity is 0.5540540540540541\n",
      "Precision is 0.8565217391304348\n",
      "Accuracy is 0.8530465949820788\n",
      "Misclassification Rate is 0.1469534050179212\n"
     ]
    }
   ],
   "source": [
    "vote = conf_mat(tn,fp,fn,tp)\n",
    "vote.all()"
   ]
  },
  {
   "cell_type": "code",
   "execution_count": null,
   "metadata": {},
   "outputs": [],
   "source": []
  }
 ],
 "metadata": {
  "kernelspec": {
   "display_name": "Python 3",
   "language": "python",
   "name": "python3"
  },
  "language_info": {
   "codemirror_mode": {
    "name": "ipython",
    "version": 3
   },
   "file_extension": ".py",
   "mimetype": "text/x-python",
   "name": "python",
   "nbconvert_exporter": "python",
   "pygments_lexer": "ipython3",
   "version": "3.7.7"
  },
  "toc-showmarkdowntxt": false
 },
 "nbformat": 4,
 "nbformat_minor": 4
}
